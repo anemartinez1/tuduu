{
 "cells": [
  {
   "cell_type": "code",
   "execution_count": 31,
   "metadata": {},
   "outputs": [],
   "source": [
    "import gspread\n",
    "import time\n",
    "\n",
    "# json = wks.get_all_records()\n",
    "# df = pd.DataFrame(json)"
   ]
  },
  {
   "cell_type": "code",
   "execution_count": 33,
   "metadata": {},
   "outputs": [],
   "source": [
    "sa = gspread.service_account()"
   ]
  },
  {
   "cell_type": "code",
   "execution_count": 34,
   "metadata": {},
   "outputs": [],
   "source": [
    "\n",
    "sh = sa.open('Users TUDUU')\n",
    "wks = sh.worksheet('Hoja 1')"
   ]
  },
  {
   "cell_type": "code",
   "execution_count": 35,
   "metadata": {},
   "outputs": [
    {
     "name": "stdout",
     "output_type": "stream",
     "text": [
      "Change\n",
      "No change\n",
      "No change\n",
      "No change\n",
      "Change\n"
     ]
    },
    {
     "ename": "KeyboardInterrupt",
     "evalue": "",
     "output_type": "error",
     "traceback": [
      "\u001b[1;31m---------------------------------------------------------------------------\u001b[0m",
      "\u001b[1;31mKeyboardInterrupt\u001b[0m                         Traceback (most recent call last)",
      "\u001b[1;32mc:\\Users\\ECI\\Desktop\\Aitor Hernandez\\TUDUU\\indut.ipynb Celda 4\u001b[0m in \u001b[0;36m<cell line: 1>\u001b[1;34m()\u001b[0m\n\u001b[0;32m      <a href='vscode-notebook-cell:/c%3A/Users/ECI/Desktop/Aitor%20Hernandez/TUDUU/indut.ipynb#X14sZmlsZQ%3D%3D?line=5'>6</a>\u001b[0m     \u001b[39mprint\u001b[39m(\u001b[39m'\u001b[39m\u001b[39mChange\u001b[39m\u001b[39m'\u001b[39m)\n\u001b[0;32m      <a href='vscode-notebook-cell:/c%3A/Users/ECI/Desktop/Aitor%20Hernandez/TUDUU/indut.ipynb#X14sZmlsZQ%3D%3D?line=6'>7</a>\u001b[0m     df \u001b[39m=\u001b[39m df2\n\u001b[1;32m----> <a href='vscode-notebook-cell:/c%3A/Users/ECI/Desktop/Aitor%20Hernandez/TUDUU/indut.ipynb#X14sZmlsZQ%3D%3D?line=7'>8</a>\u001b[0m time\u001b[39m.\u001b[39;49msleep(\u001b[39m5\u001b[39;49m)\n",
      "\u001b[1;31mKeyboardInterrupt\u001b[0m: "
     ]
    }
   ],
   "source": [
    "while True:\n",
    "    df2 = pd.DataFrame(wks.get_all_records())\n",
    "    if df.equals(df2):\n",
    "        print('No change')\n",
    "    else:\n",
    "        print('Change')\n",
    "        df = df2\n",
    "    time.sleep(5)"
   ]
  },
  {
   "cell_type": "code",
   "execution_count": 1,
   "metadata": {},
   "outputs": [],
   "source": [
    "import gspread\n",
    "import time\n",
    "import pandas as pd\n",
    "import os\n",
    "import requests\n",
    "import os\n",
    "import requests\n",
    "from dotenv import load_dotenv\n",
    "\n",
    "sa = gspread.service_account()\n",
    "sh = sa.open('Users TUDUU')\n",
    "wks = sh.worksheet('automatizacion')\n",
    "json = wks.get_all_records()\n",
    "df = pd.DataFrame(json)\n",
    "\n",
    "load_dotenv()\n",
    "AIRTABLE_BASE_ID=os.environ.get(\"appEX0yBBP1xhAkeL\")\n",
    "AIRTABLE_API_KEY=os.environ.get(\"keyedN52o4Usdo8DS\")\n",
    "AIRTABLE_TABLE_NAME=os.environ.get(\"Cabeceras\")\n",
    "\n"
   ]
  },
  {
   "cell_type": "code",
   "execution_count": 11,
   "metadata": {},
   "outputs": [
    {
     "data": {
      "text/plain": [
       "'s'"
      ]
     },
     "execution_count": 11,
     "metadata": {},
     "output_type": "execute_result"
    }
   ],
   "source": [
    "df2 = pd.DataFrame(wks.get_all_records())\n",
    "# get last row\n",
    "df2.tail(1).cesta.values[0]"
   ]
  }
 ],
 "metadata": {
  "kernelspec": {
   "display_name": "Python 3.10.0 ('mlflow1')",
   "language": "python",
   "name": "python3"
  },
  "language_info": {
   "codemirror_mode": {
    "name": "ipython",
    "version": 3
   },
   "file_extension": ".py",
   "mimetype": "text/x-python",
   "name": "python",
   "nbconvert_exporter": "python",
   "pygments_lexer": "ipython3",
   "version": "3.10.0"
  },
  "orig_nbformat": 4,
  "vscode": {
   "interpreter": {
    "hash": "3471c9b79a6891292ca45bb90dce4a4b0c9305b11fae044a7312b434eb3443e4"
   }
  }
 },
 "nbformat": 4,
 "nbformat_minor": 2
}
