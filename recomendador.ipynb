{
 "cells": [
  {
   "cell_type": "markdown",
   "metadata": {},
   "source": [
    "## Librerias a utilizar"
   ]
  },
  {
   "cell_type": "code",
   "execution_count": 1,
   "metadata": {},
   "outputs": [],
   "source": [
    "import pandas as pd\n",
    "from sklearn.feature_extraction.text import CountVectorizer\n",
    "from sklearn.metrics.pairwise import cosine_similarity\n",
    "from sklearn.feature_extraction.text import TfidfVectorizer\n",
    "from sklearn.metrics.pairwise import linear_kernel"
   ]
  },
  {
   "cell_type": "code",
   "execution_count": 2,
   "metadata": {},
   "outputs": [],
   "source": [
    "df = pd.read_csv('Menu_Items.csv')\n",
    "names = df[' Name'].tolist()\n",
    "stopwords = ['de', 'y']\n"
   ]
  },
  {
   "cell_type": "code",
   "execution_count": 3,
   "metadata": {},
   "outputs": [],
   "source": [
    "users  = pd.read_csv('Users.csv')"
   ]
  },
  {
   "cell_type": "code",
   "execution_count": 4,
   "metadata": {},
   "outputs": [],
   "source": [
    "lista = pd.read_csv('ListComidaCena.csv')"
   ]
  },
  {
   "cell_type": "code",
   "execution_count": 5,
   "metadata": {},
   "outputs": [
    {
     "data": {
      "text/plain": [
       "(5640, 4096)"
      ]
     },
     "execution_count": 5,
     "metadata": {},
     "output_type": "execute_result"
    }
   ],
   "source": [
    "#Define a TF-IDF Vectorizer Object. Remove all english stop words such as 'the', 'a'\n",
    "tfidf = TfidfVectorizer(stop_words=stopwords)\n",
    "\n",
    "#Replace NaN with an empty string\n",
    "df[' Name'] = df[' Name'].fillna('')\n",
    "\n",
    "#Construct the required TF-IDF matrix by fitting and transforming the data\n",
    "tfidf_matrix = tfidf.fit_transform(df[' Name']) \n",
    "tfidf_matrix.shape"
   ]
  },
  {
   "cell_type": "code",
   "execution_count": 6,
   "metadata": {},
   "outputs": [],
   "source": [
    "# Compute the cosine similarity matrix\n",
    "cosine_sim = linear_kernel(tfidf_matrix, tfidf_matrix)"
   ]
  },
  {
   "cell_type": "code",
   "execution_count": 7,
   "metadata": {},
   "outputs": [],
   "source": [
    "indices = pd.Series(df.index, index=df[' Name']).drop_duplicates()"
   ]
  },
  {
   "cell_type": "code",
   "execution_count": 8,
   "metadata": {},
   "outputs": [],
   "source": [
    "def get_recommendations(title, cosine_sim=cosine_sim):\n",
    "    # Get the index of the movie that matches the title\n",
    "    idx = indices[title]\n",
    "\n",
    "    # Get the pairwsie similarity scores of all movies with that movie\n",
    "    sim_scores = list(enumerate(cosine_sim[idx]))\n",
    "\n",
    "    # Sort the movies based on the similarity scores\n",
    "    sim_scores = sorted(sim_scores, key=lambda x: x[1], reverse=True)\n",
    "\n",
    "    # Get the scores of the 10 most similar movies\n",
    "    sim_scores = sim_scores[1:11]\n",
    "\n",
    "    # Get the movie indices\n",
    "    movie_indices = [i[0] for i in sim_scores]\n",
    "\n",
    "    # Return the top 10 most similar movies\n",
    "    return df[' Name'].iloc[movie_indices]"
   ]
  },
  {
   "cell_type": "code",
   "execution_count": 9,
   "metadata": {},
   "outputs": [
    {
     "data": {
      "text/plain": [
       "['Zumo de piña Hacendado',\n",
       " 'Media piña',\n",
       " 'Piña natural a rodajas',\n",
       " 'Zumo de piña y uva Hacendado',\n",
       " 'Zumo de piña y uva Hacendado',\n",
       " 'Bebida de piña Hacendado sin azúcares añadidos',\n",
       " 'Bebida de piña Hacendado sin azúcares añadidos',\n",
       " 'Zumo de piña selección Hacendado',\n",
       " 'Zumo de piña selección Hacendado',\n",
       " 'Bebida láctea de piña y coco Hacendado']"
      ]
     },
     "execution_count": 9,
     "metadata": {},
     "output_type": "execute_result"
    }
   ],
   "source": [
    "get_recommendations('Piña').tolist()"
   ]
  },
  {
   "cell_type": "markdown",
   "metadata": {},
   "source": [
    "## Recomendar cestas de la compra"
   ]
  },
  {
   "cell_type": "code",
   "execution_count": 10,
   "metadata": {},
   "outputs": [],
   "source": [
    "df1 = df.iloc[:,:3]"
   ]
  },
  {
   "cell_type": "code",
   "execution_count": 11,
   "metadata": {},
   "outputs": [],
   "source": [
    "disccionario_total = {\n",
    "    'Zumos' : ['zumo', 'néctar' ,'leche','tropical','frutas', 'multivitaminas', 'smoothie', 'mango', 'pomelo', 'naranja'],\n",
    "    'Cereales' : ['cereales'],\n",
    "    'Frutas' : ['cerezas','albaricoque','néctar', 'manzana', 'plátano', 'fresa', 'fresas', 'coco', 'frambuesa', 'uvas', 'ciruela', 'higos', 'paraguayo', 'arándanos', 'nectarina', 'melocotón', 'papaya', 'naranja', 'mandarina', 'uva', 'peras', 'pera', 'piña', 'lima', 'pomelo', 'manzanas', 'manzana', 'banana', 'ciruelas', 'paraguayos', 'frambuesas', 'aguacates', 'mango', 'aguacate', 'mini', 'limas', 'limón', 'melón', 'sandía', 'kiwis', 'moras', 'limones' ],\n",
    "    'Verduras' : ['ensalada','alcachofas','champiñones','alcachofa','verduras','verdura', 'pimientos', 'espinacas', 'cebolla','haba', 'rollitos', 'rodajas', 'lechiga', 'iceberg', 'perejil', 'zanahoria', 'brócoli', 'berenjena', 'jengibre', 'judía','berenjenas', 'verde', 'coliflor', 'pepino', 'escarola', 'alcachofa', 'apio', 'tomate', 'puerro', 'calabaza', 'calabacín', 'pimiento', 'papa', 'patata', 'remolacha', 'zanahoria', 'cebolla', 'ajo','ajos','pisto','espárragos', 'judías',  'puerro', 'rábano', 'yuca', 'maíz',  'rábano', 'nabo','ajo', 'remolacha','hierbabuena', 'espárrago', 'puerro', 'apio', 'espinaca', 'rúcula', 'lechuga', 'endivia', 'acelga', 'canónigos', 'coliflor', 'brócoli', 'alcachofa', 'puerros', 'rabanitos', 'acelgas', 'champiñón', 'seta', 'cebollino', 'hiervabuena', 'bimi', 'zanahorias', 'tomates', 'cebollas', 'batata', 'lechugas'],\n",
    "    'Legumbres' : ['garbanzo','legumbre', 'garbanzos', 'lentejas', 'alubias', 'lenteja', 'alubia'],\n",
    "    'Pescados' : ['berberecho','pescado', 'bacalao', 'rolls', 'mejillones','almejas', 'bonito', 'sardinillas', 'marina', 'almejones','cardo','sardinillas', 'langostino', 'huevas', 'atún', 'rodaballo', 'rape', 'merluza', 'pargo', 'trucha', 'gallo', 'dorada', 'lubina', 'corvino', 'sardina', 'boquerón', 'lenguado', 'calamar', 'anillas', 'marisco', 'anguriñas', 'rodaja', 'sepia', 'pescanova', 'camarones', 'navajas', 'carabinero', 'gamba', 'mejillon', 'alistado', 'gambón', 'caviar', 'corvina', 'chipirón', 'gallos', 'aritos', 'corvina', 'pulpo', 'rabas', 'filete', 'filetes', 'muslitos', 'mejillón', 'almeja', 'berberechos', 'nécora', 'bogavante'],\n",
    "    'Carnes' : ['carne'],\n",
    "    'Lacteos' : ['burrata','bífidus', 'smoothie', 'lácteo', 'natillas', 'queso', 'leche', 'helado', 'yogur', 'crema', 'mantequilla', 'danonino','petit', 'kéfir', 'danone', 'cuajada'],\n",
    "    'Huevos' : ['huevo', 'tortilla', 'huevos'],\n",
    "    'Grasas' : ['grasa'],\n",
    "    'Bebidas' : ['cortado', 'zumo','bebida', 'exprimido', 'agua', 'coca-cola', 'fanta', 'gaseosa', 'cola', 'refresco', 'energético', 'energética', 'malta', 'cafeína', 'tónica', 'schweppes', 'kas', 'limonada', 'infusión', 'té', 'café', 'soluble', 'vino', 'lambrusco', 'cava', 'sidra', 'licor', 'vodka', 'orujo', 'ron', 'ginebra', 'mojito', 'whisky', 'brandy', 'vermouth', 'cerveza', 'champagne', 'granadina', 'moscatel', 'tinto', 'miel', 'pacharán', 'sangría'],\n",
    "    'Vinagre' : ['vinagre', 'vinagreta'],\n",
    "    'Sopas' : ['salmorejo','sopa', 'gazpacho'],\n",
    "    'Postres' : ['tiramisú', 'postre', 'mousse', 'gelatina', 'tarta', 'pastel', 'flan', 'helado', 'galleta', 'dulce', 'chocolate', 'mermelada', 'macedonia', 'panna', 'ensaimadas', 'medias', 'berlina', 'trenza', 'napolitana'],\n",
    "    'Sazonadores' : ['quinoa','ñoras','guindillas','cúrcuma','jengubre','grano','canela','comino','curry','pimientas','granulado','molida', 'pimentón','cilantro', 'pimienta', 'sazonador', 'sal', 'bicarbonato', 'orégano', 'perejil', 'hierbas', 'romero', 'laurel', 'albahaca','colorante', 'hojas', 'tomillo', 'azafrán'],\n",
    "    'Proteicos' : ['pollo,','proteínas', 'pollo', 'salmón', 'desnatada', 'añadidos', 'fresco', 'avena', 'integral', 'arroz', 'cacahuete', '0%', 'integrales'],\n",
    "    'Embutidos' : ['compango','york','quesos','morcilla', 'ibéricos', 'ibérico','jamón', 'chorizo', 'tocino', 'chistorra', 'salchicha', 'salami', 'embutido', 'paletilla', 'ibérica', 'salchicón', 'longaniza', 'cecina', 'jamoncitos', 'vacuno', 'paleta', 'hueso', 'mortadela', 'lonchas', 'pavo', 'fiambre', 'redondas', 'lonchas'],\n",
    "    'Dulce' : ['chocolate', 'galletas', 'dulce', 'cheesecake', 'copa','caramelo', 'caramelo', 'galleta', 'tarta', 'pastel', 'brownie', 'turrón', 'pastelería', 'rosca' 'nata', 'cupcakes', 'repostería','ensaimada', 'bizcocho', 'cacao', 'choco',  'medias', 'berlina', 'trenza', 'napolitana', 'palmeritas', 'mantecadas','fartons', 'pastas', 'gofres', 'sobaos', 'croissant', 'valencianas', 'saladas', 'horchata' ],\n",
    "    'Poco_habituales' : ['manzanilla', 'ponche', 'chopped','cous','tapioca','edulcorante','popitos','sur','palmito','germinados','papilla','requesón','guisantes','educolorantes','pañales', 'perro','anti-insectos','razas','perro','dental','bolsas','tortugas','roedores','alimento','spray','agar','vainilla','caracoles','vegetales','cangrejo','tsatsiki', 'oriental', 'tofu', 'hummus', 'velas', 'vela', 'merengue', 'migas', 'decoraciones', 'sirope', 'extracto', 'lecho', 'perros', 'gato', 'gatos', ],\n",
    "    'Pan' : ['pan', 'tostada', 'palitos', 'picatostes', 'picos', 'piquitos', 'baguette', 'bocadillo', 'bocadillos', 'hogaza', 'regañá', 'panecillos', 'bocados', 'panes', 'piñones', 'panecillo', 'baguettes', 'panadería'],\n",
    "    'Pasta' : ['hélices','medialunas','fideuá','tortiglioni','helice','tallarín','cannelloni','fusilli','pasta', 'spaghetti', 'masa', 'fideos', 'canelloni', 'canelones', 'fideo', 'penne', 'girasoles', 'macarrón', 'tallarines'],\n",
    "    'frutos_secos' : ['almendras', 'almendra', 'pistacho', 'cacahuete', 'avellana', 'mix', 'altramuces', 'cocktail', 'semillas', 'nuez', 'dátiles', 'pipas', 'pasas', 'cuquis', 'anacardo', 'castaña', 'piparra', 'castañas', 'aperitivos', 'cortezas'],\n",
    "    'Habituales' : ['ensaladilla', 'patatas', 'patata', 'arroz', 'tomate', 'mozzarella'],\n",
    "    'Para_tener' : ['aceitunas', 'arroz', 'pasta', 'hojaldre', 'foie', 'paté', 'lacón', 'setas'],\n",
    "    'Congelados' : ['ultracongelado', 'ultracongelados', 'ultracongelada', 'ultracongeladas', 'congelado', 'congelados', 'congelada', 'congeladas', 'helado', 'helados', 'hielo', 'hielos'],\n",
    "    'Hogar' : ['caja','algodón','fósforos', 'funda', 'serrín', 'pila', 'mechero', 'encendedor', 'fosforos', 'velote', 'pajitas', 'bolsa', 'aluminio', 'lavavajillas', 'pastillas', 'bolsa', 'reparador', 'cloro', 'colgador', 'kit', 'ph', 'lejía', 'detergente', 'tiras', 'limpiagafas', 'quitagrasas', 'ambientador', 'eliminador', 'friegasuelos', 'colgador', 'piscina', 'tubo', 'limpiador'],\n",
    "    'Cuidado_personal' : ['cuerpo','hidratante','neceser','deliplus','maquillaje', 'sombra', 'pincel', 'máscara', 'pestañas', 'perfilador', 'pintalabios', 'labial', 'brillo', 'polvo', 'polvera', 'colorete', 'corrector','betún', 'toallitas', 'polvos', 'lote', 'protector', 'aftersun', 'colonia', 'eau', 'necceser', 'pómez', 'cepillo', 'corta', 'tijera', 'lima', 'laca', 'uñas', 'gel', 'compresa', 'enjuague','decolorante', 'cabello', 'dentífrico', 'dentales', 'esponja', 'jabón', 'desodorante', 'pinza', 'sérum', 'facial', 'bálsamo', 'corporal', 'preservativos', 'mascarillas', 'lágrimas', 'picaduras', 'raíces', 'mechas', 'coloración', 'champú', 'acondicionador', 'fósforos', 'algodón', 'tampones', 'mascarilla', 'protegeslip', 'loción', 'fragancia', 'faciales', 'ojos', 'ampollas', 'espuma', 'comprimidos', 'polen'],\n",
    "    'Hortalizas' : ['cebolla', 'ajo', 'espinaca', 'alcachofa', 'zanahoria', 'albahaca', 'calabaza', 'remolacha', 'pepinillos'],\n",
    "    'Salsas' : ['mayonesa', 'salsa', 'ketchup', 'mostaza', 'allioli'],\n",
    "    'Bebes' : ['papilla', 'infantil', 'crecimiento', 'baby', 'bebé'],\n",
    "    'Desayunos' : ['cereales','aceite',  'tostadas', 'tartaletas', 'biscotes', 'galletas', 'churros', 'tortitas', 'leche', 'colacao', 'crepes', 'bizcoho', 'bollo', 'magdalenas', 'pancakes', 'empanada', 'caracola', 'margarina', 'barritas', 'muesli'],\n",
    "    'Reposteria' : ['relleno','tarta', 'pastel', 'brownie', 'turrón', 'pastelería', 'rosca' 'nata', 'cupcakes', 'repostería', 'crepes', 'levadura', 'harina', 'preparado', 'bizcocho', 'hojaldre', 'bizcochos', 'tortas', ],\n",
    "    'Caprichos' : ['snack','chocolate', 'pizza', 'tarta', 'hamburgesa', 'azúcar', 'mayonesa', 'nata', 'crakers', 'tortillas', 'banderillas', 'coquito', 'golosionas', 'caramelos', 'chicle', 'educolorante', 'regaliz', 'gominolas', 'paté', 'golosinas', 'juegos', 'surtido', 'chicles', 'nachos', 'pringles', 'torreznos', 'cebollitas', 'picadillo'],\n",
    "    'Aceites_vinagre_sal' : ['aceite','vinagre','sal'],\n",
    "    'Carnes' : ['sobrasada', 'chucrut','bacón', 'carne', 'boloñesa', 'costilla', 'costillas', 'lomo', 'cerdo', 'pollo', 'pechuga', 'hamburguesa', 'hamburguesas', 'cocido', 'albóndigas','entrecot','burger', 'fabada', 'callos', 'lasaña','bacon', 'panceta','tacos', 'brochetas', 'cordero', 'chuletas', 'conejo', 'panceta', 'vacuno', 'churrasco', 'nuggets', 'burguer', 'butifarra', 'pierna', 'solomillo', 'magret', 'codornices', 'gallina',  'salchichas', 'pollo,', 'repollo', 'pieza', 'chalotas']\n",
    "\n",
    "    }"
   ]
  },
  {
   "cell_type": "code",
   "execution_count": 16,
   "metadata": {},
   "outputs": [],
   "source": [
    "tags = {\n",
    "\n",
    "'virgen extra':['virgen extra'],\n",
    "\n",
    "'Hacendado': ['hacendado'] ,\n",
    "\n",
    "'aceite coco': ['aceite de coco'] ,\n",
    "\n",
    "'especias': ['perejil', 'laurel', 'pimienta', 'pimentón', 'curry', 'eneldo', 'cilantro', 'azafrán', 'canela', 'ajo', 'nuez moscada', 'sal de ajo', 'cúrcuma', 'cayena', 'trufas', 'ñoras', 'anís', 'pimientos choriceros', 'piñones'],\n",
    "'salsa': ['salsa', 'mayonesa', 'ketchup', 'mostaza', 'allioli', 'tomate frito'],\n",
    "\n",
    "'bebida isotónica': ['bebida isotónica'],\n",
    "\n",
    "'refresco':[ 'refresco' ]  ,\n",
    "\n",
    "'tónica': ['tónica' ],\n",
    "\n",
    "'limonada':[ 'limonada'],\n",
    "\n",
    "'aperitivos':[ 'aceitunas', 'mix de encurtidos', 'banderillas', 'jalapeños', 'alcaparrones', 'ajos aliñados', 'pepinillos', 'patatas fritas', 'pistacho', 'almendra', 'anacardo', 'papas', 'cacahuete', 'maíz', 'nuez', 'combinado frutos secos', 'cocktail', 'doritos', 'tiras de maíz', 'cuquitos', 'torreznos', 'cortezas', 'cheetos'],\n",
    "\n",
    "'té': ['te'],\n",
    "'café': ['cafe'],\n",
    "\n",
    "'carne': ['pollo', 'ternera', 'cerdo', 'compango', 'gallina', 'cocido', 'conejo', 'cordero', 'vaca', 'hamburguesa', 'bacón' ],\n",
    "\n",
    "'congelado': ['congelado', 'congelados'],\n",
    "\n",
    "'sin gluten':['sin gluten' ],\n",
    "\n",
    "'cereales': ['cereales' ],\n",
    "\n",
    "'galletas': ['galletas'],\n",
    "\n",
    "'chocolate': ['chocolate'],\n",
    "\n",
    "'tortitas': ['tortitas'],\n",
    "\n",
    "'pavo': ['pavo'] ,\n",
    "\n",
    "'longaniza': ['longaniza'],\n",
    "'pollo': ['pollo'] ,\n",
    "\n",
    "'jamón': ['jamón' ],\n",
    "\n",
    "'untar':[ 'paté', 'untar', 'foie', 'mantequilla', 'humus', 'sobrasada'],\n",
    "\n",
    "'queso': ['queso' ],\n",
    "\n",
    "'lonchas':[ 'lonchas' ],\n",
    "\n",
    "'sin lactosa': ['sin lactosa'],\n",
    "\n",
    "'atún': ['atún' ],\n",
    "\n",
    "'bonito':[ 'bonito' ],\n",
    "'caballa': ['caballa' ],\n",
    "\n",
    "'mejillones': ['mejillones' ],\n",
    "\n",
    "'escabeche':[ 'escabeche' ],\n",
    "\n",
    "'conservas': ['espárragos', 'macedonia de verduras', 'remolacha', 'palmito', 'La Hacienda', 'apio', 'pimiento', 'cardo', 'acelgas', 'chucrut', 'brotes'],\n",
    "\n",
    "'maíz': ['maíz'],\n",
    "\n",
    "'gazpacho': ['gazpacho' ],\n",
    "\n",
    "'salmorejo': ['salmorejo'],\n",
    "\n",
    "'sopa': ['sopa' ],\n",
    "\n",
    "'acondicionador': ['acondicionador' ],\n",
    "\n",
    "'mascarilla': ['mascarilla' ],\n",
    "\n",
    "'sérum': ['sérum'] ,\n",
    "\n",
    "'champú':[ 'champú' ],\n",
    "\n",
    "'cabello': ['champú' , 'sérum', 'mascarilla', 'acondicionador', 'coloración', 'laca', 'espuma cabello', 'gel fijador', 'cera', 'peine', 'cepillo', 'pinza cabello', 'gomas negras', 'coleteros', 'horquilla', 'cabello' ] , \n",
    "\n",
    "'infantil': ['kids', 'infantil' ],\n",
    "'tinte': ['coloración' ],\n",
    "\n",
    "'laca': ['laca' ],\n",
    "\n",
    "'gel fijador': ['gel fijador'],\n",
    "\n",
    "'cera':[ 'cera' ],\n",
    "\n",
    "'peine': ['cepillo' ],\n",
    "\n",
    "'afeitar': ['afeitar', 'after shave' ],\n",
    "\n",
    "'after shave': ['after shave'],\n",
    "\n",
    "'cuidado': ['cuidado', 'corporal', 'manos', 'toallitas', 'pinza', 'pinzas', 'tónico', 'facial', 'mascarilla', 'desodorante', 'gel'  ],\n",
    "\n",
    "'crema manos': ['crema manos'],\n",
    "\n",
    "'exfoliante': ['exfoliante'] ,\n",
    "\n",
    "'mascarilla':[ 'mascarilla'],\n",
    "\n",
    "'depilación': ['depilación', 'bandas de cera', 'depilatoria', 'cejas' ],\n",
    "\n",
    "'dentífrico': ['dentífrico', 'caries' ],\n",
    "\n",
    "'higiene íntima': ['compresa', 'protegeslip', 'tampones', 'pañal adulto', 'toallitas'],\n",
    "\n",
    "'manicura': ['uñas', 'quitaesmalte', 'lima uñas', 'pómez'],\n",
    "\n",
    "'pedicura':[ 'pómez', 'uñas', 'quitaesmalte', 'lima uñas'],\n",
    "\n",
    "'pizza': ['pizza'],\n",
    "\n",
    "'perfume': ['perfume', 'parfum', 'eau de toilette'],\n",
    "'colonia': ['colonia', 'eau de toilette'],\n",
    "'protector solar': ['protector solar', 'aceite solar'], \n",
    "\n",
    "'parafarmacia': ['alcohol 96º', 'agua oxigenada', 'tiras protectoras', 'yodada', 'yodo', 'esparadrapo', 'alcohol de romero', 'gasa', 'gasas'],\n",
    "\n",
    "'limpieza hogar': ['detergente', 'agua destilada', 'lejía', 'limpiahogar', 'desinfectante', 'limpiador'],\n",
    "\n",
    "'baño': ['baño', 'baños' ] ,\n",
    "\n",
    "'quitamanchas': ['quitamanchas' ],\n",
    "\n",
    "'guantes': ['guantes'],\n",
    "\n",
    "'Ambientador': ['ambientador' ],\n",
    "\n",
    "\n",
    "'maquillaje': ['maquillaje', 'sombra de ojos', 'pincel'],\n",
    "\n",
    "'colorete': ['colorete', 'polvo suelto', 'polvo compacto'],\n",
    "\n",
    "'preparado': ['preparado'],\n",
    "\n",
    "'salmón': ['salmón'],\n",
    "\n",
    "'bacalao':[ 'bacalao' ],\n",
    "\n",
    "'calamar': ['calamar' ],\n",
    "\n",
    "'gallo': ['gallo' ],\n",
    "\n",
    "'lenguado': ['lenguado' ],\n",
    "\n",
    "'corvina': ['corvina'] ,\n",
    "\n",
    "'dorada': ['dorada'],\n",
    "\n",
    "'lubina': ['lubina' ],\n",
    "\n",
    "'trucha': ['trucha'] ,\n",
    "\n",
    "'pargo': ['pargo'],\n",
    "\n",
    "'ahumado': ['ahumado'],\n",
    "'sushi':[ 'sushi', 'nigiris', 'bento', 'rolls', 'makis', 'gyozas', 'noodles' ],\n",
    "\n",
    "'mascotas': ['gato', 'perro', 'periquitos', 'tortugas', 'cobaya', 'conejos enanos', 'mascotas' ],\n",
    "\n",
    "'bollería': ['berlina', 'trenza', 'rosquillas', 'pastel de crema', 'napolitana', 'bizcocho', 'donut', 'muffin', 'muffins', 'magdalenas', 'bollo', 'gofres', 'panettone', 'palmera', 'polvorón', 'mazapán', 'tarta', 'macarons', 'roscón', 'merengue', 'cupcakes' ],\n",
    "'empanada':[ 'empanada' ],\n",
    "\n",
    "'harina':[ 'harina' ],\n",
    "\n",
    "'pan': ['baguette',' pan de molde,' 'pan', 'hogaza'],\n",
    "\n",
    "'picos': ['picos' ],\n",
    "\n",
    "'tarta': ['tarta' ],\n",
    "\n",
    "'roscón': ['roscón' ],\n",
    "\n",
    "'cumpleaños': ['cumpleaños', 'vela'],\n",
    "\n",
    "'rosca':[ 'rosca'] ,\n",
    "\n",
    "'listo para comer': ['Listo para Comer'],\n",
    "\n",
    "'preparado': ['Listo para Comer'],\n",
    "\n",
    "'gazpacho': ['gazpacho' ] ,\n",
    "\n",
    "'salmorejo': ['salmorejo' ] ,\n",
    "'bifidus': ['bidifus' ],\n",
    "\n",
    "'postres': ['gelatina', 'yogur', 'copa crema', 'tiramisú', 'cuajada', 'tocino de cielo', 'coulant', 'copa de avellana', 'mousse', 'postre'],\n",
    "\n",
    "'proteína':[ 'proteína', 'proteico' ],\n",
    "\n",
    "'zumo': ['zumo', 'fruta + leche', 'tropical', 'bebida tropical', 'smoothie' ],\n",
    "'sin grasa': ['zero materia grasa']\n",
    "\n",
    "}"
   ]
  },
  {
   "cell_type": "code",
   "execution_count": null,
   "metadata": {},
   "outputs": [],
   "source": []
  },
  {
   "cell_type": "markdown",
   "metadata": {},
   "source": [
    "## Recomendador con nuevas categorias"
   ]
  },
  {
   "cell_type": "markdown",
   "metadata": {},
   "source": [
    "#### 2.1 Cluster “No me quito nada, como de todo” "
   ]
  },
  {
   "cell_type": "code",
   "execution_count": 12,
   "metadata": {},
   "outputs": [],
   "source": [
    "disccionario_2_1 = {'Desayuno': ['cereales','pan', 'tostada', 'palitos', 'picatostes', 'picos', 'piquitos', 'baguette', 'bocadillo', 'bocadillos', 'hogaza', 'regañá', 'panecillos', 'bocados', 'panes', 'piñones', 'panecillo', 'baguettes', 'panadería','aceite',  'tostadas', 'tartaletas', 'biscotes', 'galletas', 'churros', 'tortitas', 'leche', 'colacao', 'crepes', 'bizcoho', 'bollo', 'magdalenas', 'pancakes', 'empanada', 'caracola', 'margarina', 'barritas', 'muesli','cerezas','albaricoque','néctar', 'manzana', 'plátano', 'fresa', 'fresas', 'coco', 'frambuesa', 'uvas', 'ciruela', 'higos', 'paraguayo', 'arándanos', 'nectarina', 'melocotón', 'papaya', 'naranja', 'mandarina', 'uva', 'peras', 'pera', 'piña', 'lima', 'pomelo', 'manzanas', 'manzana', 'banana', 'ciruelas', 'paraguayos', 'frambuesas', 'aguacates', 'mango', 'aguacate', 'mini', 'limas', 'limón', 'melón', 'sandía', 'kiwis', 'moras', 'limones','burrata','bífidus', 'smoothie', 'lácteo', 'natillas', 'queso', 'leche', 'helado', 'yogur', 'crema', 'mantequilla', 'danonino','petit', 'kéfir', 'danone', 'cuajada'],\n",
    " 'comida_cena':['huevo', 'tortilla', 'huevos','hélices','medialunas','fideuá','tortiglioni','helice','tallarín','cannelloni','fusilli','pasta', 'spaghetti', 'masa', 'fideos', 'canelloni', 'canelones', 'fideo', 'penne', 'girasoles', 'macarrón', 'tallarines','garbanzo','legumbre', 'garbanzos', 'lentejas', 'alubias', 'lenteja', 'alubia','sobrasada', 'chucrut','bacón', 'carne', 'boloñesa', 'costilla', 'costillas', 'lomo', 'cerdo', 'pollo', 'pechuga', 'hamburguesa', 'hamburguesas', 'cocido', 'albóndigas','entrecot','burger', 'fabada', 'callos', 'lasaña','bacon', 'panceta','tacos', 'brochetas', 'cordero', 'chuletas', 'conejo', 'panceta', 'vacuno', 'churrasco', 'nuggets', 'burguer', 'butifarra', 'pierna', 'solomillo', 'magret', 'codornices', 'gallina',  'salchichas', 'pollo,', 'repollo', 'pieza', 'chalotas' , 'berberecho','pescado', 'bacalao', 'rolls', 'mejillones','almejas', 'bonito', 'sardinillas', 'marina', 'almejones','cardo','sardinillas', 'langostino', 'huevas', 'atún', 'rodaballo', 'rape', 'merluza', 'pargo', 'trucha', 'gallo', 'dorada', 'lubina', 'corvino', 'sardina', 'boquerón', 'lenguado', 'calamar', 'anillas', 'marisco', 'anguriñas', 'rodaja', 'sepia', 'pescanova', 'camarones', 'navajas', 'carabinero', 'gamba', 'mejillon', 'alistado', 'gambón', 'caviar', 'corvina', 'chipirón', 'gallos', 'aritos', 'corvina', 'pulpo', 'rabas', 'filete', 'filetes', 'muslitos', 'mejillón', 'almeja', 'berberechos', 'nécora', 'bogavante','cebolla', 'ajo', 'espinaca', 'alcachofa', 'zanahoria', 'albahaca', 'calabaza', 'remolacha', 'pepinillos', 'grasa', 'salmorejo','sopa', 'gazpacho','ensaladilla', 'patatas', 'patata', 'arroz', 'tomate', 'mozzarella', 'pollo,','proteínas', 'pollo', 'salmón', 'desnatada', 'añadidos', 'fresco', 'avena', 'integral', 'arroz', 'cacahuete', '0%', 'integrales', 'tiramisú', 'postre', 'mousse', 'gelatina', 'tarta', 'pastel', 'flan', 'helado', 'galleta', 'dulce', 'chocolate', 'mermelada', 'macedonia', 'panna', 'ensaimadas', 'medias', 'berlina', 'trenza', 'napolitana', 'ensalada','alcachofas','champiñones','alcachofa','verduras','verdura', 'pimientos', 'espinacas', 'cebolla','haba', 'rollitos', 'rodajas', 'lechiga', 'iceberg', 'perejil', 'zanahoria', 'brócoli', 'berenjena', 'jengibre', 'judía','berenjenas', 'coliflor', 'pepino', 'escarola', 'alcachofa', 'apio', 'tomate', 'puerro', 'calabaza', 'calabacín', 'pimiento', 'papa', 'patata', 'remolacha', 'zanahoria', 'cebolla', 'ajo','ajos','pisto','espárragos', 'judías',  'puerro', 'rábano', 'yuca', 'maíz',  'rábano', 'nabo','ajo', 'remolacha','hierbabuena', 'espárrago', 'puerro', 'apio', 'espinaca', 'rúcula', 'lechuga', 'endivia', 'acelga', 'canónigos', 'coliflor', 'brócoli', 'alcachofa', 'puerros', 'rabanitos', 'acelgas', 'champiñón', 'seta', 'cebollino', 'hiervabuena', 'bimi', 'zanahorias', 'tomates', 'cebollas', 'batata', 'lechugas'],\n",
    " 'entre_horas': ['chocolate', 'galletas', 'dulce', 'cheesecake', 'copa','caramelo', 'caramelo', 'galleta', 'tarta', 'pastel', 'brownie', 'turrón', 'pastelería', 'rosca' 'nata', 'cupcakes', 'repostería','ensaimada', 'bizcocho', 'cacao', 'choco',  'medias', 'berlina', 'trenza', 'napolitana', 'palmeritas', 'mantecadas','fartons', 'pastas', 'gofres', 'sobaos', 'croissant', 'valencianas', 'saladas', 'horchata', 'snack','chocolate', 'pizza', 'tarta', 'hamburgesa', 'azúcar', 'mayonesa', 'nata', 'crakers', 'tortillas', 'banderillas', 'coquito', 'golosionas', 'caramelos', 'chicle', 'educolorante', 'regaliz', 'gominolas', 'paté', 'golosinas', 'juegos', 'surtido', 'chicles', 'nachos', 'pringles', 'torreznos', 'cebollitas', 'picadillo', 'compango','york','quesos','morcilla', 'ibéricos', 'ibérico','jamón', 'chorizo', 'tocino', 'chistorra', 'salchicha', 'salami', 'embutido', 'paletilla', 'ibérica', 'salchicón', 'longaniza', 'cecina', 'jamoncitos', 'vacuno', 'paleta', 'hueso', 'mortadela', 'lonchas', 'pavo', 'fiambre', 'redondas', 'lonchas'],\n",
    " 'Hogar': ['caja','algodón','fósforos', 'funda', 'serrín', 'pila', 'mechero', 'encendedor', 'fosforos', 'velote', 'pajitas', 'bolsa', 'aluminio', 'lavavajillas', 'pastillas', 'bolsa', 'reparador', 'cloro', 'colgador', 'kit', 'ph', 'lejía', 'detergente', 'tiras', 'limpiagafas', 'quitagrasas', 'ambientador', 'eliminador', 'friegasuelos', 'colgador', 'piscina', 'tubo', 'limpiador','higiénico'],\n",
    "  'Cuidado_personal' : ['cuerpo','hidratante','neceser','deliplus','maquillaje', 'sombra', 'pincel', 'máscara', 'pestañas', 'perfilador', 'pintalabios', 'labial', 'brillo', 'polvo', 'polvera', 'colorete', 'corrector','betún', 'toallitas', 'polvos', 'lote', 'protector', 'aftersun', 'colonia', 'eau', 'necceser', 'pómez', 'cepillo', 'corta', 'tijera', 'lima', 'laca', 'uñas', 'gel', 'compresa', 'enjuague','decolorante', 'cabello', 'dentífrico', 'dentales', 'esponja', 'jabón', 'desodorante', 'pinza', 'sérum', 'facial', 'bálsamo', 'corporal', 'preservativos', 'mascarillas', 'lágrimas', 'picaduras', 'raíces', 'mechas', 'coloración', 'champú', 'acondicionador', 'fósforos', 'algodón', 'tampones', 'mascarilla', 'protegeslip', 'loción', 'fragancia', 'faciales', 'ojos', 'ampollas', 'espuma', 'comprimidos', 'polen']\n",
    "\n",
    "} \n"
   ]
  },
  {
   "cell_type": "markdown",
   "metadata": {},
   "source": [
    "#### 2.2 “No suelo comer mucha carne”"
   ]
  },
  {
   "cell_type": "code",
   "execution_count": 13,
   "metadata": {},
   "outputs": [],
   "source": [
    "diccionario_2_2 = {'Desayuno':['cereales', 'pan', 'tostada', 'palitos', 'picatostes', 'picos', 'piquitos', 'baguette', 'bocadillo', 'bocadillos', 'hogaza', 'regañá', 'panecillos', 'bocados', 'panes', 'piñones', 'panecillo', 'baguettes', 'panadería','cereales','aceite',  'tostadas', 'tartaletas', 'biscotes', 'galletas', 'churros', 'tortitas', 'leche', 'colacao', 'crepes', 'bizcocho', 'bollo', 'magdalenas', 'pancakes', 'empanada', 'caracola', 'margarina', 'barritas', 'muesli', 'cerezas','albaricoque','néctar', 'manzana', 'plátano', 'fresa', 'fresas', 'coco', 'frambuesa', 'uvas', 'ciruela', 'higos', 'paraguayo', 'arándanos', 'nectarina', 'melocotón', 'papaya', 'naranja', 'mandarina', 'uva', 'peras', 'pera', 'piña', 'lima', 'pomelo', 'manzanas', 'manzana', 'banana', 'ciruelas', 'paraguayos', 'frambuesas', 'aguacates', 'mango', 'aguacate', 'mini', 'limas', 'limón', 'melón', 'sandía', 'kiwis', 'moras', 'limones','burrata','bífidus', 'smoothie', 'lácteo', 'natillas', 'queso', 'leche', 'helado', 'yogur', 'crema', 'mantequilla', 'danonino','petit', 'kéfir', 'danone', 'cuajada'], \n",
    "'Comida_Cena' :  ['huevo', 'tortilla', 'huevos','hélices','medialunas','fideuá','tortiglioni','helice','tallarín','cannelloni','fusilli','pasta', 'spaghetti', 'masa', 'fideos', 'canelloni', 'canelones', 'fideo', 'penne', 'girasoles', 'macarrón', 'tallarines','garbanzo','legumbre', 'garbanzos', 'lentejas', 'alubias', 'lenteja', 'alubia','sobrasada', 'chucrut','bacón', 'carne', 'boloñesa', 'costilla', 'costillas', 'lomo', 'cerdo', 'pollo', 'pechuga', 'hamburguesa', 'hamburguesas', 'cocido', 'albóndigas','entrecot','burger', 'fabada', 'callos', 'lasaña','bacon', 'panceta','tacos', 'brochetas', 'cordero', 'chuletas', 'conejo', 'panceta', 'vacuno', 'churrasco', 'nuggets', 'burguer', 'butifarra', 'pierna', 'solomillo', 'magret', 'codornices', 'gallina',  'salchichas', 'pollo,', 'repollo', 'pieza', 'chalotas' , 'berberecho','pescado', 'bacalao', 'rolls', 'mejillones','almejas', 'bonito', 'sardinillas', 'marina', 'almejones','cardo','sardinillas', 'langostino', 'huevas', 'atún', 'rodaballo', 'rape', 'merluza', 'pargo', 'trucha', 'gallo', 'dorada', 'lubina', 'corvino', 'sardina', 'boquerón', 'lenguado', 'calamar', 'anillas', 'marisco', 'anguriñas', 'rodaja', 'sepia', 'pescanova', 'camarones', 'navajas', 'carabinero', 'gamba', 'mejillon', 'alistado', 'gambón', 'caviar', 'corvina', 'chipirón', 'gallos', 'aritos', 'corvina', 'pulpo', 'rabas', 'filete', 'filetes', 'muslitos', 'mejillón', 'almeja', 'berberechos', 'nécora', 'bogavante','cebolla', 'ajo', 'espinaca', 'alcachofa', 'zanahoria', 'albahaca', 'calabaza', 'remolacha', 'pepinillos', 'grasa', 'salmorejo','sopa', 'gazpacho', 'ensaladilla', 'patatas', 'patata', 'arroz', 'tomate', 'mozzarella', 'pollo,','proteínas', 'pollo', 'salmón', 'desnatada', 'añadidos', 'fresco', 'avena', 'integral', 'arroz', 'cacahuete', '0%', 'integrales', 'tiramisú', 'postre', 'mousse', 'gelatina', 'tarta', 'pastel', 'flan', 'helado', 'galleta', 'dulce', 'chocolate', 'mermelada', 'macedonia', 'panna', 'ensaimadas', 'medias', 'berlina', 'trenza', 'napolitana', 'ensalada','alcachofas','champiñones','alcachofa','verduras','verdura', 'pimientos', 'espinacas', 'cebolla','haba', 'rollitos', 'rodajas', 'lechiga', 'iceberg', 'perejil', 'zanahoria', 'brócoli', 'berenjena', 'jengibre', 'judía','berenjenas', 'coliflor', 'pepino', 'escarola', 'alcachofa', 'apio', 'tomate', 'puerro', 'calabaza', 'calabacín', 'pimiento', 'papa', 'patata', 'remolacha', 'zanahoria', 'cebolla', 'ajo','ajos','pisto','espárragos', 'judías',  'puerro', 'rábano', 'yuca', 'maíz',  'rábano', 'nabo','ajo', 'remolacha','hierbabuena', 'espárrago', 'puerro', 'apio', 'espinaca', 'rúcula', 'lechuga', 'endivia', 'acelga', 'canónigos', 'coliflor', 'brócoli', 'alcachofa', 'puerros', 'rabanitos', 'acelgas', 'champiñón', 'seta', 'cebollino', 'hiervabuena', 'bimi', 'zanahorias', 'tomates', 'cebollas', 'batata', 'lechugas'],\n",
    "'Entre_horas': ['chocolate', 'galletas', 'dulce', 'cheesecake', 'copa','caramelo', 'caramelo', 'galleta', 'tarta', 'pastel', 'brownie', 'turrón', 'pastelería', 'rosca' 'nata', 'cupcakes', 'repostería','ensaimada', 'bizcocho', 'cacao', 'choco',  'medias', 'berlina', 'trenza', 'napolitana', 'palmeritas', 'mantecadas','fartons', 'pastas', 'gofres', 'sobaos', 'croissant', 'valencianas', 'saladas', 'horchata', 'snack','chocolate', 'pizza', 'tarta', 'hamburgesa', 'azúcar', 'mayonesa', 'nata', 'crakers', 'tortillas', 'banderillas', 'coquito', 'golosionas', 'caramelos', 'chicle', 'educolorante', 'regaliz', 'gominolas', 'paté', 'golosinas', 'juegos', 'surtido', 'chicles', 'nachos', 'pringles', 'torreznos', 'cebollitas', 'picadillo', 'compango','york','quesos','morcilla', 'ibéricos', 'ibérico','jamón', 'chorizo', 'tocino', 'chistorra', 'salchicha', 'salami', 'embutido', 'paletilla', 'ibérica', 'salchicón', 'longaniza', 'cecina', 'jamoncitos', 'vacuno', 'paleta', 'hueso', 'mortadela', 'lonchas', 'pavo', 'fiambre', 'redondas', 'lonchas'],\n",
    "'Hogar' :['caja','algodón','fósforos', 'funda', 'serrín', 'pila', 'mechero', 'encendedor', 'fosforos', 'velote', 'pajitas', 'bolsa', 'aluminio', 'lavavajillas', 'pastillas', 'bolsa', 'reparador', 'cloro', 'colgador', 'kit', 'ph', 'lejía', 'detergente', 'tiras', 'limpiagafas', 'quitagrasas', 'ambientador', 'eliminador', 'friegasuelos', 'colgador', 'piscina', 'tubo', 'limpiador', 'higiénico'],\n",
    "'Cuidado_personal' : ['cuerpo','hidratante','neceser','deliplus','maquillaje', 'sombra', 'pincel', 'máscara', 'pestañas', 'perfilador', 'pintalabios', 'labial', 'brillo', 'polvo', 'polvera', 'colorete', 'corrector','betún', 'toallitas', 'polvos', 'lote', 'protector', 'aftersun', 'colonia', 'eau', 'necceser', 'pómez', 'cepillo', 'corta', 'tijera', 'lima', 'laca', 'uñas', 'gel', 'compresa', 'enjuague','decolorante', 'cabello', 'dentífrico', 'dentales', 'esponja', 'jabón', 'desodorante', 'pinza', 'sérum', 'facial', 'bálsamo', 'corporal', 'preservativos', 'mascarillas', 'lágrimas', 'picaduras', 'raíces', 'mechas', 'coloración', 'champú', 'acondicionador', 'fósforos', 'algodón', 'tampones', 'mascarilla', 'protegeslip', 'loción', 'fragancia', 'faciales', 'ojos', 'ampollas', 'espuma', 'comprimidos', 'polen']\n",
    "\n",
    "}"
   ]
  },
  {
   "cell_type": "markdown",
   "metadata": {},
   "source": [
    "#### 2.3 “Dieta equilibrada, sin excesos”"
   ]
  },
  {
   "cell_type": "code",
   "execution_count": null,
   "metadata": {},
   "outputs": [],
   "source": []
  },
  {
   "cell_type": "code",
   "execution_count": 17,
   "metadata": {},
   "outputs": [],
   "source": [
    "# value of a list is in another lits\n",
    "def is_in_list(a, b):\n",
    "    a = a.split(' ')\n",
    "    a = [word.lower() for word in a]\n",
    "    return any(i in a for i in b)"
   ]
  },
  {
   "cell_type": "code",
   "execution_count": 31,
   "metadata": {},
   "outputs": [
    {
     "name": "stderr",
     "output_type": "stream",
     "text": [
      "c:\\ProgramData\\Anaconda3\\lib\\site-packages\\ipykernel_launcher.py:6: SettingWithCopyWarning: \n",
      "A value is trying to be set on a copy of a slice from a DataFrame\n",
      "\n",
      "See the caveats in the documentation: https://pandas.pydata.org/pandas-docs/stable/user_guide/indexing.html#returning-a-view-versus-a-copy\n",
      "  \n"
     ]
    }
   ],
   "source": [
    "df1['tag'] = ''\n",
    "for row in range(len(df1)):\n",
    "    for nombre, categoria in tags.items():\n",
    "        if is_in_list(df1[' Name'][row], categoria):\n",
    "            #add to column of df\n",
    "            df1['tag'][row] += ' '+str(nombre)"
   ]
  },
  {
   "cell_type": "code",
   "execution_count": 32,
   "metadata": {},
   "outputs": [],
   "source": [
    "# group by tag ans set name as a list of products\n",
    "df11 = df1.groupby('tag')[' Name'].apply(list).reset_index(name='products')"
   ]
  },
  {
   "cell_type": "code",
   "execution_count": 25,
   "metadata": {},
   "outputs": [],
   "source": [
    "#separate with comma columns values\n",
    "df1['tag'] = df1['tag'].str.replace(' ', ',')"
   ]
  },
  {
   "cell_type": "code",
   "execution_count": 38,
   "metadata": {},
   "outputs": [],
   "source": [
    "# drop tags that are not in tags diccitonary keys\n",
    "df12 = df11[df11['tag'].isin(tags.keys())]"
   ]
  },
  {
   "cell_type": "code",
   "execution_count": 40,
   "metadata": {},
   "outputs": [
    {
     "data": {
      "text/plain": [
       "dict_keys(['virgen extra', 'Hacendado', 'aceite coco', 'especias', 'salsa', 'bebida isotónica', 'refresco', 'tónica', 'limonada', 'aperitivos', 'té', 'café', 'carne', 'congelado', 'sin gluten', 'cereales', 'galletas', 'chocolate', 'tortitas', 'pavo', 'longaniza', 'pollo', 'jamón', 'untar', 'queso', 'lonchas', 'sin lactosa', 'atún', 'bonito', 'caballa', 'mejillones', 'escabeche', 'conservas', 'maíz', 'gazpacho', 'salmorejo', 'sopa', 'acondicionador', 'mascarilla', 'sérum', 'champú', 'cabello', 'infantil', 'tinte', 'laca', 'gel fijador', 'cera', 'peine', 'afeitar', 'after shave', 'cuidado', 'crema manos', 'exfoliante', 'depilación', 'dentífrico', 'higiene íntima', 'manicura', 'pedicura', 'pizza', 'perfume', 'colonia', 'protector solar', 'parafarmacia', 'limpieza hogar', 'baño', 'quitamanchas', 'guantes', 'Ambientador', 'maquillaje', 'colorete', 'preparado', 'salmón', 'bacalao', 'calamar', 'gallo', 'lenguado', 'corvina', 'dorada', 'lubina', 'trucha', 'pargo', 'ahumado', 'sushi', 'mascotas', 'bollería', 'empanada', 'harina', 'pan', 'picos', 'tarta', 'roscón', 'cumpleaños', 'rosca', 'listo para comer', 'bifidus', 'postres', 'proteína', 'zumo', 'sin grasa'])"
      ]
     },
     "execution_count": 40,
     "metadata": {},
     "output_type": "execute_result"
    }
   ],
   "source": [
    "tags.keys()"
   ]
  },
  {
   "cell_type": "code",
   "execution_count": 42,
   "metadata": {},
   "outputs": [],
   "source": [
    "df11.to_excel('tags.xlsx', index=False)"
   ]
  },
  {
   "cell_type": "code",
   "execution_count": 29,
   "metadata": {},
   "outputs": [
    {
     "ename": "TypeError",
     "evalue": "'float' object is not iterable",
     "output_type": "error",
     "traceback": [
      "\u001b[1;31m---------------------------------------------------------------------------\u001b[0m",
      "\u001b[1;31mTypeError\u001b[0m                                 Traceback (most recent call last)",
      "\u001b[1;32m<ipython-input-29-ef0d59293625>\u001b[0m in \u001b[0;36m<module>\u001b[1;34m\u001b[0m\n\u001b[0;32m      1\u001b[0m \u001b[1;31m#list of products have each tag\u001b[0m\u001b[1;33m\u001b[0m\u001b[1;33m\u001b[0m\u001b[1;33m\u001b[0m\u001b[0m\n\u001b[0;32m      2\u001b[0m \u001b[0mdf1\u001b[0m\u001b[1;33m[\u001b[0m\u001b[1;34m'tag'\u001b[0m\u001b[1;33m]\u001b[0m \u001b[1;33m=\u001b[0m \u001b[0mdf1\u001b[0m\u001b[1;33m[\u001b[0m\u001b[1;34m'tag'\u001b[0m\u001b[1;33m]\u001b[0m\u001b[1;33m.\u001b[0m\u001b[0mstr\u001b[0m\u001b[1;33m.\u001b[0m\u001b[0msplit\u001b[0m\u001b[1;33m(\u001b[0m\u001b[1;34m','\u001b[0m\u001b[1;33m)\u001b[0m\u001b[1;33m\u001b[0m\u001b[1;33m\u001b[0m\u001b[0m\n\u001b[1;32m----> 3\u001b[1;33m \u001b[0mdf1\u001b[0m\u001b[1;33m[\u001b[0m\u001b[1;34m'tag'\u001b[0m\u001b[1;33m]\u001b[0m \u001b[1;33m=\u001b[0m \u001b[0mdf1\u001b[0m\u001b[1;33m[\u001b[0m\u001b[1;34m'tag'\u001b[0m\u001b[1;33m]\u001b[0m\u001b[1;33m.\u001b[0m\u001b[0mapply\u001b[0m\u001b[1;33m(\u001b[0m\u001b[1;32mlambda\u001b[0m \u001b[0mx\u001b[0m\u001b[1;33m:\u001b[0m \u001b[0mlist\u001b[0m\u001b[1;33m(\u001b[0m\u001b[0mset\u001b[0m\u001b[1;33m(\u001b[0m\u001b[0mx\u001b[0m\u001b[1;33m)\u001b[0m\u001b[1;33m)\u001b[0m\u001b[1;33m)\u001b[0m\u001b[1;33m\u001b[0m\u001b[1;33m\u001b[0m\u001b[0m\n\u001b[0m",
      "\u001b[1;32mc:\\ProgramData\\Anaconda3\\lib\\site-packages\\pandas\\core\\series.py\u001b[0m in \u001b[0;36mapply\u001b[1;34m(self, func, convert_dtype, args, **kwds)\u001b[0m\n\u001b[0;32m   4211\u001b[0m             \u001b[1;32melse\u001b[0m\u001b[1;33m:\u001b[0m\u001b[1;33m\u001b[0m\u001b[1;33m\u001b[0m\u001b[0m\n\u001b[0;32m   4212\u001b[0m                 \u001b[0mvalues\u001b[0m \u001b[1;33m=\u001b[0m \u001b[0mself\u001b[0m\u001b[1;33m.\u001b[0m\u001b[0mastype\u001b[0m\u001b[1;33m(\u001b[0m\u001b[0mobject\u001b[0m\u001b[1;33m)\u001b[0m\u001b[1;33m.\u001b[0m\u001b[0m_values\u001b[0m\u001b[1;33m\u001b[0m\u001b[1;33m\u001b[0m\u001b[0m\n\u001b[1;32m-> 4213\u001b[1;33m                 \u001b[0mmapped\u001b[0m \u001b[1;33m=\u001b[0m \u001b[0mlib\u001b[0m\u001b[1;33m.\u001b[0m\u001b[0mmap_infer\u001b[0m\u001b[1;33m(\u001b[0m\u001b[0mvalues\u001b[0m\u001b[1;33m,\u001b[0m \u001b[0mf\u001b[0m\u001b[1;33m,\u001b[0m \u001b[0mconvert\u001b[0m\u001b[1;33m=\u001b[0m\u001b[0mconvert_dtype\u001b[0m\u001b[1;33m)\u001b[0m\u001b[1;33m\u001b[0m\u001b[1;33m\u001b[0m\u001b[0m\n\u001b[0m\u001b[0;32m   4214\u001b[0m \u001b[1;33m\u001b[0m\u001b[0m\n\u001b[0;32m   4215\u001b[0m         \u001b[1;32mif\u001b[0m \u001b[0mlen\u001b[0m\u001b[1;33m(\u001b[0m\u001b[0mmapped\u001b[0m\u001b[1;33m)\u001b[0m \u001b[1;32mand\u001b[0m \u001b[0misinstance\u001b[0m\u001b[1;33m(\u001b[0m\u001b[0mmapped\u001b[0m\u001b[1;33m[\u001b[0m\u001b[1;36m0\u001b[0m\u001b[1;33m]\u001b[0m\u001b[1;33m,\u001b[0m \u001b[0mSeries\u001b[0m\u001b[1;33m)\u001b[0m\u001b[1;33m:\u001b[0m\u001b[1;33m\u001b[0m\u001b[1;33m\u001b[0m\u001b[0m\n",
      "\u001b[1;32mpandas\\_libs\\lib.pyx\u001b[0m in \u001b[0;36mpandas._libs.lib.map_infer\u001b[1;34m()\u001b[0m\n",
      "\u001b[1;32m<ipython-input-29-ef0d59293625>\u001b[0m in \u001b[0;36m<lambda>\u001b[1;34m(x)\u001b[0m\n\u001b[0;32m      1\u001b[0m \u001b[1;31m#list of products have each tag\u001b[0m\u001b[1;33m\u001b[0m\u001b[1;33m\u001b[0m\u001b[1;33m\u001b[0m\u001b[0m\n\u001b[0;32m      2\u001b[0m \u001b[0mdf1\u001b[0m\u001b[1;33m[\u001b[0m\u001b[1;34m'tag'\u001b[0m\u001b[1;33m]\u001b[0m \u001b[1;33m=\u001b[0m \u001b[0mdf1\u001b[0m\u001b[1;33m[\u001b[0m\u001b[1;34m'tag'\u001b[0m\u001b[1;33m]\u001b[0m\u001b[1;33m.\u001b[0m\u001b[0mstr\u001b[0m\u001b[1;33m.\u001b[0m\u001b[0msplit\u001b[0m\u001b[1;33m(\u001b[0m\u001b[1;34m','\u001b[0m\u001b[1;33m)\u001b[0m\u001b[1;33m\u001b[0m\u001b[1;33m\u001b[0m\u001b[0m\n\u001b[1;32m----> 3\u001b[1;33m \u001b[0mdf1\u001b[0m\u001b[1;33m[\u001b[0m\u001b[1;34m'tag'\u001b[0m\u001b[1;33m]\u001b[0m \u001b[1;33m=\u001b[0m \u001b[0mdf1\u001b[0m\u001b[1;33m[\u001b[0m\u001b[1;34m'tag'\u001b[0m\u001b[1;33m]\u001b[0m\u001b[1;33m.\u001b[0m\u001b[0mapply\u001b[0m\u001b[1;33m(\u001b[0m\u001b[1;32mlambda\u001b[0m \u001b[0mx\u001b[0m\u001b[1;33m:\u001b[0m \u001b[0mlist\u001b[0m\u001b[1;33m(\u001b[0m\u001b[0mset\u001b[0m\u001b[1;33m(\u001b[0m\u001b[0mx\u001b[0m\u001b[1;33m)\u001b[0m\u001b[1;33m)\u001b[0m\u001b[1;33m)\u001b[0m\u001b[1;33m\u001b[0m\u001b[1;33m\u001b[0m\u001b[0m\n\u001b[0m",
      "\u001b[1;31mTypeError\u001b[0m: 'float' object is not iterable"
     ]
    }
   ],
   "source": [
    "#list of products have each tag \n",
    "df1['tag'] = df1['tag'].str.split(',')\n",
    "df1['tag'] = df1['tag'].apply(lambda x: list(set(x)))"
   ]
  },
  {
   "cell_type": "code",
   "execution_count": 30,
   "metadata": {},
   "outputs": [],
   "source": [
    "df1.to_csv('df_2_2.csv', index=False)"
   ]
  },
  {
   "cell_type": "code",
   "execution_count": 160,
   "metadata": {},
   "outputs": [],
   "source": [
    "#split df column values\n",
    "df1['tipo'] = df1['tipo'].str.split('_')\n",
    "# drop [] from tipo column"
   ]
  },
  {
   "cell_type": "code",
   "execution_count": 157,
   "metadata": {},
   "outputs": [
    {
     "ename": "TypeError",
     "evalue": "'float' object is not subscriptable",
     "output_type": "error",
     "traceback": [
      "\u001b[1;31m---------------------------------------------------------------------------\u001b[0m",
      "\u001b[1;31mTypeError\u001b[0m                                 Traceback (most recent call last)",
      "\u001b[1;32m<ipython-input-157-738d3d523aab>\u001b[0m in \u001b[0;36m<module>\u001b[1;34m\u001b[0m\n\u001b[1;32m----> 1\u001b[1;33m \u001b[0mdf1\u001b[0m\u001b[1;33m[\u001b[0m\u001b[1;34m'tipo'\u001b[0m\u001b[1;33m]\u001b[0m \u001b[1;33m=\u001b[0m \u001b[0mdf1\u001b[0m\u001b[1;33m[\u001b[0m\u001b[1;34m'tipo'\u001b[0m\u001b[1;33m]\u001b[0m\u001b[1;33m.\u001b[0m\u001b[0mapply\u001b[0m\u001b[1;33m(\u001b[0m\u001b[1;32mlambda\u001b[0m \u001b[0mx\u001b[0m\u001b[1;33m:\u001b[0m \u001b[0mx\u001b[0m\u001b[1;33m[\u001b[0m\u001b[1;36m0\u001b[0m\u001b[1;33m]\u001b[0m\u001b[1;33m)\u001b[0m\u001b[1;33m\u001b[0m\u001b[1;33m\u001b[0m\u001b[0m\n\u001b[0m",
      "\u001b[1;32mc:\\ProgramData\\Anaconda3\\lib\\site-packages\\pandas\\core\\series.py\u001b[0m in \u001b[0;36mapply\u001b[1;34m(self, func, convert_dtype, args, **kwds)\u001b[0m\n\u001b[0;32m   4211\u001b[0m             \u001b[1;32melse\u001b[0m\u001b[1;33m:\u001b[0m\u001b[1;33m\u001b[0m\u001b[1;33m\u001b[0m\u001b[0m\n\u001b[0;32m   4212\u001b[0m                 \u001b[0mvalues\u001b[0m \u001b[1;33m=\u001b[0m \u001b[0mself\u001b[0m\u001b[1;33m.\u001b[0m\u001b[0mastype\u001b[0m\u001b[1;33m(\u001b[0m\u001b[0mobject\u001b[0m\u001b[1;33m)\u001b[0m\u001b[1;33m.\u001b[0m\u001b[0m_values\u001b[0m\u001b[1;33m\u001b[0m\u001b[1;33m\u001b[0m\u001b[0m\n\u001b[1;32m-> 4213\u001b[1;33m                 \u001b[0mmapped\u001b[0m \u001b[1;33m=\u001b[0m \u001b[0mlib\u001b[0m\u001b[1;33m.\u001b[0m\u001b[0mmap_infer\u001b[0m\u001b[1;33m(\u001b[0m\u001b[0mvalues\u001b[0m\u001b[1;33m,\u001b[0m \u001b[0mf\u001b[0m\u001b[1;33m,\u001b[0m \u001b[0mconvert\u001b[0m\u001b[1;33m=\u001b[0m\u001b[0mconvert_dtype\u001b[0m\u001b[1;33m)\u001b[0m\u001b[1;33m\u001b[0m\u001b[1;33m\u001b[0m\u001b[0m\n\u001b[0m\u001b[0;32m   4214\u001b[0m \u001b[1;33m\u001b[0m\u001b[0m\n\u001b[0;32m   4215\u001b[0m         \u001b[1;32mif\u001b[0m \u001b[0mlen\u001b[0m\u001b[1;33m(\u001b[0m\u001b[0mmapped\u001b[0m\u001b[1;33m)\u001b[0m \u001b[1;32mand\u001b[0m \u001b[0misinstance\u001b[0m\u001b[1;33m(\u001b[0m\u001b[0mmapped\u001b[0m\u001b[1;33m[\u001b[0m\u001b[1;36m0\u001b[0m\u001b[1;33m]\u001b[0m\u001b[1;33m,\u001b[0m \u001b[0mSeries\u001b[0m\u001b[1;33m)\u001b[0m\u001b[1;33m:\u001b[0m\u001b[1;33m\u001b[0m\u001b[1;33m\u001b[0m\u001b[0m\n",
      "\u001b[1;32mpandas\\_libs\\lib.pyx\u001b[0m in \u001b[0;36mpandas._libs.lib.map_infer\u001b[1;34m()\u001b[0m\n",
      "\u001b[1;32m<ipython-input-157-738d3d523aab>\u001b[0m in \u001b[0;36m<lambda>\u001b[1;34m(x)\u001b[0m\n\u001b[1;32m----> 1\u001b[1;33m \u001b[0mdf1\u001b[0m\u001b[1;33m[\u001b[0m\u001b[1;34m'tipo'\u001b[0m\u001b[1;33m]\u001b[0m \u001b[1;33m=\u001b[0m \u001b[0mdf1\u001b[0m\u001b[1;33m[\u001b[0m\u001b[1;34m'tipo'\u001b[0m\u001b[1;33m]\u001b[0m\u001b[1;33m.\u001b[0m\u001b[0mapply\u001b[0m\u001b[1;33m(\u001b[0m\u001b[1;32mlambda\u001b[0m \u001b[0mx\u001b[0m\u001b[1;33m:\u001b[0m \u001b[0mx\u001b[0m\u001b[1;33m[\u001b[0m\u001b[1;36m0\u001b[0m\u001b[1;33m]\u001b[0m\u001b[1;33m)\u001b[0m\u001b[1;33m\u001b[0m\u001b[1;33m\u001b[0m\u001b[0m\n\u001b[0m",
      "\u001b[1;31mTypeError\u001b[0m: 'float' object is not subscriptable"
     ]
    }
   ],
   "source": [
    "\n",
    "df1['tipo'] = df1['tipo'].apply(lambda x: x[0])"
   ]
  },
  {
   "cell_type": "code",
   "execution_count": 118,
   "metadata": {},
   "outputs": [],
   "source": [
    "df1.to_csv('Productos_final.csv', index=False)"
   ]
  },
  {
   "cell_type": "code",
   "execution_count": 31,
   "metadata": {},
   "outputs": [
    {
     "data": {
      "text/html": [
       "<div>\n",
       "<style scoped>\n",
       "    .dataframe tbody tr th:only-of-type {\n",
       "        vertical-align: middle;\n",
       "    }\n",
       "\n",
       "    .dataframe tbody tr th {\n",
       "        vertical-align: top;\n",
       "    }\n",
       "\n",
       "    .dataframe thead th {\n",
       "        text-align: right;\n",
       "    }\n",
       "</style>\n",
       "<table border=\"1\" class=\"dataframe\">\n",
       "  <thead>\n",
       "    <tr style=\"text-align: right;\">\n",
       "      <th></th>\n",
       "      <th>Name</th>\n",
       "      <th>Description</th>\n",
       "      <th>Price</th>\n",
       "      <th>tipo</th>\n",
       "    </tr>\n",
       "  </thead>\n",
       "  <tbody>\n",
       "    <tr>\n",
       "      <th>0</th>\n",
       "      <td>Zumo de manzana selección Hacendado</td>\n",
       "      <td>Brick 1 L | 1,40 €/L</td>\n",
       "      <td>1.40</td>\n",
       "      <td>Desayuno</td>\n",
       "    </tr>\n",
       "    <tr>\n",
       "      <th>1</th>\n",
       "      <td>Zumo de pomelo Hacendado</td>\n",
       "      <td>Brick 1 L | 1,30 €/L</td>\n",
       "      <td>1.30</td>\n",
       "      <td>Desayuno</td>\n",
       "    </tr>\n",
       "    <tr>\n",
       "      <th>2</th>\n",
       "      <td>Bebida de pera Hacendado sin azúcares añadidos</td>\n",
       "      <td>Brick 1 L | 1,00 €/L</td>\n",
       "      <td>1.00</td>\n",
       "      <td>Desayuno Comida_Cena</td>\n",
       "    </tr>\n",
       "    <tr>\n",
       "      <th>3</th>\n",
       "      <td>Bebida guayaba Hacendado sin azúcares añadidos</td>\n",
       "      <td>Brick 1 L | 1,20 €/L</td>\n",
       "      <td>1.20</td>\n",
       "      <td>Comida_Cena</td>\n",
       "    </tr>\n",
       "    <tr>\n",
       "      <th>4</th>\n",
       "      <td>Bebida de pomelo Hacendado sin azúcares añadidos</td>\n",
       "      <td>Brick 1 L | 1,10 €/L</td>\n",
       "      <td>1.10</td>\n",
       "      <td>Desayuno Comida_Cena</td>\n",
       "    </tr>\n",
       "    <tr>\n",
       "      <th>...</th>\n",
       "      <td>...</td>\n",
       "      <td>...</td>\n",
       "      <td>...</td>\n",
       "      <td>...</td>\n",
       "    </tr>\n",
       "    <tr>\n",
       "      <th>5635</th>\n",
       "      <td>Aceite de oliva virgen extra Hacendado Gran Se...</td>\n",
       "      <td>Botella 750 ml | 6,00 €/L</td>\n",
       "      <td>6.00</td>\n",
       "      <td>Desayuno</td>\n",
       "    </tr>\n",
       "    <tr>\n",
       "      <th>5636</th>\n",
       "      <td>Aceite de oliva virgen extra Hacendado 1L</td>\n",
       "      <td>Botella 1 L | 4,25 €/L</td>\n",
       "      <td>4.25</td>\n",
       "      <td>Desayuno</td>\n",
       "    </tr>\n",
       "    <tr>\n",
       "      <th>5637</th>\n",
       "      <td>Aceite de oliva virgen extra Hacendado 3L</td>\n",
       "      <td>Garrafa 3 L | 4,234 €/L</td>\n",
       "      <td>12.70</td>\n",
       "      <td>Desayuno</td>\n",
       "    </tr>\n",
       "    <tr>\n",
       "      <th>5638</th>\n",
       "      <td>Aceite de oliva 0,4º Hacendado 1L</td>\n",
       "      <td>Botella 1 L | 3,90 €/L</td>\n",
       "      <td>3.90</td>\n",
       "      <td>Desayuno</td>\n",
       "    </tr>\n",
       "    <tr>\n",
       "      <th>5639</th>\n",
       "      <td>Aceite de oliva 0,4º Hacendado 5L</td>\n",
       "      <td>Garrafa 5 L | 3,84 €/L</td>\n",
       "      <td>19.20</td>\n",
       "      <td>Desayuno</td>\n",
       "    </tr>\n",
       "  </tbody>\n",
       "</table>\n",
       "<p>5640 rows × 4 columns</p>\n",
       "</div>"
      ],
      "text/plain": [
       "                                                   Name  \\\n",
       "0                   Zumo de manzana selección Hacendado   \n",
       "1                              Zumo de pomelo Hacendado   \n",
       "2        Bebida de pera Hacendado sin azúcares añadidos   \n",
       "3        Bebida guayaba Hacendado sin azúcares añadidos   \n",
       "4      Bebida de pomelo Hacendado sin azúcares añadidos   \n",
       "...                                                 ...   \n",
       "5635  Aceite de oliva virgen extra Hacendado Gran Se...   \n",
       "5636         Aceite de oliva virgen extra Hacendado 1L    \n",
       "5637          Aceite de oliva virgen extra Hacendado 3L   \n",
       "5638                 Aceite de oliva 0,4º Hacendado 1L    \n",
       "5639                 Aceite de oliva 0,4º Hacendado 5L    \n",
       "\n",
       "                    Description  Price                   tipo  \n",
       "0          Brick 1 L | 1,40 €/L   1.40               Desayuno  \n",
       "1          Brick 1 L | 1,30 €/L   1.30               Desayuno  \n",
       "2          Brick 1 L | 1,00 €/L   1.00   Desayuno Comida_Cena  \n",
       "3          Brick 1 L | 1,20 €/L   1.20            Comida_Cena  \n",
       "4          Brick 1 L | 1,10 €/L   1.10   Desayuno Comida_Cena  \n",
       "...                         ...    ...                    ...  \n",
       "5635  Botella 750 ml | 6,00 €/L   6.00               Desayuno  \n",
       "5636     Botella 1 L | 4,25 €/L   4.25               Desayuno  \n",
       "5637    Garrafa 3 L | 4,234 €/L  12.70               Desayuno  \n",
       "5638     Botella 1 L | 3,90 €/L   3.90               Desayuno  \n",
       "5639     Garrafa 5 L | 3,84 €/L  19.20               Desayuno  \n",
       "\n",
       "[5640 rows x 4 columns]"
      ]
     },
     "execution_count": 31,
     "metadata": {},
     "output_type": "execute_result"
    }
   ],
   "source": [
    "df1"
   ]
  },
  {
   "cell_type": "code",
   "execution_count": 38,
   "metadata": {},
   "outputs": [
    {
     "data": {
      "text/plain": [
       "dict_keys(['Desayuno', 'comida_cena', 'entre_horas', 'Hogar', 'Cuidado_personal'])"
      ]
     },
     "execution_count": 38,
     "metadata": {},
     "output_type": "execute_result"
    }
   ],
   "source": [
    "disccionario_2_1.keys()"
   ]
  },
  {
   "cell_type": "code",
   "execution_count": 39,
   "metadata": {},
   "outputs": [
    {
     "data": {
      "text/html": [
       "<div>\n",
       "<style scoped>\n",
       "    .dataframe tbody tr th:only-of-type {\n",
       "        vertical-align: middle;\n",
       "    }\n",
       "\n",
       "    .dataframe tbody tr th {\n",
       "        vertical-align: top;\n",
       "    }\n",
       "\n",
       "    .dataframe thead th {\n",
       "        text-align: right;\n",
       "    }\n",
       "</style>\n",
       "<table border=\"1\" class=\"dataframe\">\n",
       "  <thead>\n",
       "    <tr style=\"text-align: right;\">\n",
       "      <th></th>\n",
       "      <th>Name</th>\n",
       "      <th>Description</th>\n",
       "      <th>Price</th>\n",
       "      <th>tipo</th>\n",
       "    </tr>\n",
       "  </thead>\n",
       "  <tbody>\n",
       "    <tr>\n",
       "      <th>2</th>\n",
       "      <td>Bebida de pera Hacendado sin azúcares añadidos</td>\n",
       "      <td>Brick 1 L | 1,00 €/L</td>\n",
       "      <td>1.00</td>\n",
       "      <td>Desayuno comida_cena</td>\n",
       "    </tr>\n",
       "    <tr>\n",
       "      <th>3</th>\n",
       "      <td>Bebida guayaba Hacendado sin azúcares añadidos</td>\n",
       "      <td>Brick 1 L | 1,20 €/L</td>\n",
       "      <td>1.20</td>\n",
       "      <td>comida_cena</td>\n",
       "    </tr>\n",
       "    <tr>\n",
       "      <th>4</th>\n",
       "      <td>Bebida de pomelo Hacendado sin azúcares añadidos</td>\n",
       "      <td>Brick 1 L | 1,10 €/L</td>\n",
       "      <td>1.10</td>\n",
       "      <td>Desayuno comida_cena</td>\n",
       "    </tr>\n",
       "    <tr>\n",
       "      <th>5</th>\n",
       "      <td>Bebida de mango Hacendado sin azúcares añadidos</td>\n",
       "      <td>Brick 1 L | 0,85 €/L</td>\n",
       "      <td>0.85</td>\n",
       "      <td>Desayuno comida_cena</td>\n",
       "    </tr>\n",
       "    <tr>\n",
       "      <th>9</th>\n",
       "      <td>Zumo de tomate Bonnysa</td>\n",
       "      <td>Botella 600 ml | 3,317 €/L</td>\n",
       "      <td>1.99</td>\n",
       "      <td>comida_cena</td>\n",
       "    </tr>\n",
       "    <tr>\n",
       "      <th>...</th>\n",
       "      <td>...</td>\n",
       "      <td>...</td>\n",
       "      <td>...</td>\n",
       "      <td>...</td>\n",
       "    </tr>\n",
       "    <tr>\n",
       "      <th>5599</th>\n",
       "      <td>Albahaca Hacendado</td>\n",
       "      <td>Bote 20 g | 4,75 €/100 g</td>\n",
       "      <td>0.95</td>\n",
       "      <td>comida_cena</td>\n",
       "    </tr>\n",
       "    <tr>\n",
       "      <th>5602</th>\n",
       "      <td>Perejil Hacendado</td>\n",
       "      <td>Bote 14 g | 5,358 €/100 g</td>\n",
       "      <td>0.75</td>\n",
       "      <td>comida_cena</td>\n",
       "    </tr>\n",
       "    <tr>\n",
       "      <th>5605</th>\n",
       "      <td>Preparado para salmón ahumado Hacendado</td>\n",
       "      <td>Bote 750 g | 4,40 €/kg</td>\n",
       "      <td>3.30</td>\n",
       "      <td>comida_cena</td>\n",
       "    </tr>\n",
       "    <tr>\n",
       "      <th>5608</th>\n",
       "      <td>Sal de ajo Hacendado</td>\n",
       "      <td>Bote 130 g | 10,385 €/kg</td>\n",
       "      <td>1.35</td>\n",
       "      <td>comida_cena</td>\n",
       "    </tr>\n",
       "    <tr>\n",
       "      <th>5610</th>\n",
       "      <td>Sal marina en escamas Polasal</td>\n",
       "      <td>Bote 125 g | 15,60 €/kg</td>\n",
       "      <td>1.95</td>\n",
       "      <td>comida_cena</td>\n",
       "    </tr>\n",
       "  </tbody>\n",
       "</table>\n",
       "<p>2096 rows × 4 columns</p>\n",
       "</div>"
      ],
      "text/plain": [
       "                                                  Name  \\\n",
       "2       Bebida de pera Hacendado sin azúcares añadidos   \n",
       "3       Bebida guayaba Hacendado sin azúcares añadidos   \n",
       "4     Bebida de pomelo Hacendado sin azúcares añadidos   \n",
       "5      Bebida de mango Hacendado sin azúcares añadidos   \n",
       "9                               Zumo de tomate Bonnysa   \n",
       "...                                                ...   \n",
       "5599                                Albahaca Hacendado   \n",
       "5602                                 Perejil Hacendado   \n",
       "5605           Preparado para salmón ahumado Hacendado   \n",
       "5608                              Sal de ajo Hacendado   \n",
       "5610                     Sal marina en escamas Polasal   \n",
       "\n",
       "                     Description  Price                   tipo  \n",
       "2           Brick 1 L | 1,00 €/L   1.00   Desayuno comida_cena  \n",
       "3           Brick 1 L | 1,20 €/L   1.20            comida_cena  \n",
       "4           Brick 1 L | 1,10 €/L   1.10   Desayuno comida_cena  \n",
       "5           Brick 1 L | 0,85 €/L   0.85   Desayuno comida_cena  \n",
       "9     Botella 600 ml | 3,317 €/L   1.99            comida_cena  \n",
       "...                          ...    ...                    ...  \n",
       "5599    Bote 20 g | 4,75 €/100 g   0.95            comida_cena  \n",
       "5602   Bote 14 g | 5,358 €/100 g   0.75            comida_cena  \n",
       "5605      Bote 750 g | 4,40 €/kg   3.30            comida_cena  \n",
       "5608    Bote 130 g | 10,385 €/kg   1.35            comida_cena  \n",
       "5610     Bote 125 g | 15,60 €/kg   1.95            comida_cena  \n",
       "\n",
       "[2096 rows x 4 columns]"
      ]
     },
     "execution_count": 39,
     "metadata": {},
     "output_type": "execute_result"
    }
   ],
   "source": [
    " df1[df1['tipo'].str.contains('comida_cena')]"
   ]
  },
  {
   "cell_type": "code",
   "execution_count": 40,
   "metadata": {},
   "outputs": [
    {
     "name": "stdout",
     "output_type": "stream",
     "text": [
      "Desayuno\n",
      "comida_cena\n",
      "entre_horas\n",
      "Hogar\n",
      "Cuidado_personal\n"
     ]
    }
   ],
   "source": [
    "for key, valjue in disccionario_2_1.items():\n",
    "    print(key)\n",
    "    df_ = df1[df1['tipo'].str.contains(key)]\n",
    "    df_.to_excel(key+'.xlsx', index=False)"
   ]
  },
  {
   "cell_type": "markdown",
   "metadata": {},
   "source": [
    "###\n",
    "- cesta \n",
    "- agrupar productos\n",
    "- clustering de clientes"
   ]
  },
  {
   "cell_type": "markdown",
   "metadata": {},
   "source": [
    "- 3 cestas: gourmet (primeras marcas, mas caros...), clasica (lo que pide siempre, (leche)), ofertas (contenga )"
   ]
  }
 ],
 "metadata": {
  "kernelspec": {
   "display_name": "Python 3.7.3 ('base')",
   "language": "python",
   "name": "python3"
  },
  "language_info": {
   "codemirror_mode": {
    "name": "ipython",
    "version": 3
   },
   "file_extension": ".py",
   "mimetype": "text/x-python",
   "name": "python",
   "nbconvert_exporter": "python",
   "pygments_lexer": "ipython3",
   "version": "3.7.3"
  },
  "orig_nbformat": 4,
  "vscode": {
   "interpreter": {
    "hash": "ad2bdc8ecc057115af97d19610ffacc2b4e99fae6737bb82f5d7fb13d2f2c186"
   }
  }
 },
 "nbformat": 4,
 "nbformat_minor": 2
}
