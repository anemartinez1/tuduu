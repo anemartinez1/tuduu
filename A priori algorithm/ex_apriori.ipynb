{
 "cells": [
  {
   "cell_type": "markdown",
   "id": "0c79b64f",
   "metadata": {},
   "source": [
    "# Librerías"
   ]
  },
  {
   "cell_type": "code",
   "execution_count": 1,
   "id": "8fd92901",
   "metadata": {
    "ExecuteTime": {
     "end_time": "2023-02-28T11:18:50.270943Z",
     "start_time": "2023-02-28T11:18:50.230052Z"
    }
   },
   "outputs": [],
   "source": [
    "# !pip install mlxtend"
   ]
  },
  {
   "cell_type": "code",
   "execution_count": 2,
   "id": "c4f1bb4e",
   "metadata": {
    "ExecuteTime": {
     "end_time": "2023-02-28T11:18:53.663196Z",
     "start_time": "2023-02-28T11:18:50.290889Z"
    }
   },
   "outputs": [],
   "source": [
    "import numpy as np\n",
    "import pandas as pd\n",
    "from mlxtend.frequent_patterns import apriori, association_rules"
   ]
  },
  {
   "cell_type": "markdown",
   "id": "ec6b3769",
   "metadata": {},
   "source": [
    "# Datos"
   ]
  },
  {
   "cell_type": "code",
   "execution_count": 5,
   "id": "75f36e40",
   "metadata": {
    "ExecuteTime": {
     "end_time": "2023-02-28T11:22:00.779306Z",
     "start_time": "2023-02-28T11:19:56.900716Z"
    },
    "scrolled": true
   },
   "outputs": [
    {
     "data": {
      "text/html": [
       "<div>\n",
       "<style scoped>\n",
       "    .dataframe tbody tr th:only-of-type {\n",
       "        vertical-align: middle;\n",
       "    }\n",
       "\n",
       "    .dataframe tbody tr th {\n",
       "        vertical-align: top;\n",
       "    }\n",
       "\n",
       "    .dataframe thead th {\n",
       "        text-align: right;\n",
       "    }\n",
       "</style>\n",
       "<table border=\"1\" class=\"dataframe\">\n",
       "  <thead>\n",
       "    <tr style=\"text-align: right;\">\n",
       "      <th></th>\n",
       "      <th>InvoiceNo</th>\n",
       "      <th>StockCode</th>\n",
       "      <th>Description</th>\n",
       "      <th>Quantity</th>\n",
       "      <th>InvoiceDate</th>\n",
       "      <th>UnitPrice</th>\n",
       "      <th>CustomerID</th>\n",
       "      <th>Country</th>\n",
       "    </tr>\n",
       "  </thead>\n",
       "  <tbody>\n",
       "    <tr>\n",
       "      <th>0</th>\n",
       "      <td>536365</td>\n",
       "      <td>85123A</td>\n",
       "      <td>WHITE HANGING HEART T-LIGHT HOLDER</td>\n",
       "      <td>6</td>\n",
       "      <td>2010-12-01 08:26:00</td>\n",
       "      <td>2.55</td>\n",
       "      <td>17850.0</td>\n",
       "      <td>United Kingdom</td>\n",
       "    </tr>\n",
       "    <tr>\n",
       "      <th>1</th>\n",
       "      <td>536365</td>\n",
       "      <td>71053</td>\n",
       "      <td>WHITE METAL LANTERN</td>\n",
       "      <td>6</td>\n",
       "      <td>2010-12-01 08:26:00</td>\n",
       "      <td>3.39</td>\n",
       "      <td>17850.0</td>\n",
       "      <td>United Kingdom</td>\n",
       "    </tr>\n",
       "    <tr>\n",
       "      <th>2</th>\n",
       "      <td>536365</td>\n",
       "      <td>84406B</td>\n",
       "      <td>CREAM CUPID HEARTS COAT HANGER</td>\n",
       "      <td>8</td>\n",
       "      <td>2010-12-01 08:26:00</td>\n",
       "      <td>2.75</td>\n",
       "      <td>17850.0</td>\n",
       "      <td>United Kingdom</td>\n",
       "    </tr>\n",
       "    <tr>\n",
       "      <th>3</th>\n",
       "      <td>536365</td>\n",
       "      <td>84029G</td>\n",
       "      <td>KNITTED UNION FLAG HOT WATER BOTTLE</td>\n",
       "      <td>6</td>\n",
       "      <td>2010-12-01 08:26:00</td>\n",
       "      <td>3.39</td>\n",
       "      <td>17850.0</td>\n",
       "      <td>United Kingdom</td>\n",
       "    </tr>\n",
       "    <tr>\n",
       "      <th>4</th>\n",
       "      <td>536365</td>\n",
       "      <td>84029E</td>\n",
       "      <td>RED WOOLLY HOTTIE WHITE HEART.</td>\n",
       "      <td>6</td>\n",
       "      <td>2010-12-01 08:26:00</td>\n",
       "      <td>3.39</td>\n",
       "      <td>17850.0</td>\n",
       "      <td>United Kingdom</td>\n",
       "    </tr>\n",
       "  </tbody>\n",
       "</table>\n",
       "</div>"
      ],
      "text/plain": [
       "  InvoiceNo StockCode                          Description  Quantity  \\\n",
       "0    536365    85123A   WHITE HANGING HEART T-LIGHT HOLDER         6   \n",
       "1    536365     71053                  WHITE METAL LANTERN         6   \n",
       "2    536365    84406B       CREAM CUPID HEARTS COAT HANGER         8   \n",
       "3    536365    84029G  KNITTED UNION FLAG HOT WATER BOTTLE         6   \n",
       "4    536365    84029E       RED WOOLLY HOTTIE WHITE HEART.         6   \n",
       "\n",
       "          InvoiceDate  UnitPrice  CustomerID         Country  \n",
       "0 2010-12-01 08:26:00       2.55     17850.0  United Kingdom  \n",
       "1 2010-12-01 08:26:00       3.39     17850.0  United Kingdom  \n",
       "2 2010-12-01 08:26:00       2.75     17850.0  United Kingdom  \n",
       "3 2010-12-01 08:26:00       3.39     17850.0  United Kingdom  \n",
       "4 2010-12-01 08:26:00       3.39     17850.0  United Kingdom  "
      ]
     },
     "execution_count": 5,
     "metadata": {},
     "output_type": "execute_result"
    }
   ],
   "source": [
    "data = pd.read_excel('Online Retail.xlsx')\n",
    "data.head()"
   ]
  },
  {
   "cell_type": "code",
   "execution_count": 6,
   "id": "8ad789a6",
   "metadata": {
    "ExecuteTime": {
     "end_time": "2023-02-28T11:22:00.832446Z",
     "start_time": "2023-02-28T11:22:00.798258Z"
    }
   },
   "outputs": [
    {
     "data": {
      "text/plain": [
       "Index(['InvoiceNo', 'StockCode', 'Description', 'Quantity', 'InvoiceDate',\n",
       "       'UnitPrice', 'CustomerID', 'Country'],\n",
       "      dtype='object')"
      ]
     },
     "execution_count": 6,
     "metadata": {},
     "output_type": "execute_result"
    }
   ],
   "source": [
    "# Columns of data\n",
    "data.columns"
   ]
  },
  {
   "cell_type": "code",
   "execution_count": 7,
   "id": "508d3d74",
   "metadata": {
    "ExecuteTime": {
     "end_time": "2023-02-28T11:22:00.965882Z",
     "start_time": "2023-02-28T11:22:00.849400Z"
    }
   },
   "outputs": [
    {
     "data": {
      "text/plain": [
       "array(['United Kingdom', 'France', 'Australia', 'Netherlands', 'Germany',\n",
       "       'Norway', 'EIRE', 'Switzerland', 'Spain', 'Poland', 'Portugal',\n",
       "       'Italy', 'Belgium', 'Lithuania', 'Japan', 'Iceland',\n",
       "       'Channel Islands', 'Denmark', 'Cyprus', 'Sweden', 'Austria',\n",
       "       'Israel', 'Finland', 'Bahrain', 'Greece', 'Hong Kong', 'Singapore',\n",
       "       'Lebanon', 'United Arab Emirates', 'Saudi Arabia',\n",
       "       'Czech Republic', 'Canada', 'Unspecified', 'Brazil', 'USA',\n",
       "       'European Community', 'Malta', 'RSA'], dtype=object)"
      ]
     },
     "execution_count": 7,
     "metadata": {},
     "output_type": "execute_result"
    }
   ],
   "source": [
    "# Regions of transactions\n",
    "data.Country.unique()"
   ]
  },
  {
   "cell_type": "markdown",
   "id": "16a944a8",
   "metadata": {},
   "source": [
    "# Limpieza de datos"
   ]
  },
  {
   "cell_type": "code",
   "execution_count": 8,
   "id": "b4075fec",
   "metadata": {
    "ExecuteTime": {
     "end_time": "2023-02-28T11:23:01.684335Z",
     "start_time": "2023-02-28T11:23:00.255135Z"
    }
   },
   "outputs": [],
   "source": [
    "# Strip extra spaces \n",
    "data['Description'] = data['Description'].str.strip()\n",
    "\n",
    "# Drop rows without invoice number\n",
    "data.dropna(axis=0, subset=['InvoiceNo'], inplace=True)\n",
    "data['InvoiceNo']=data['InvoiceNo'].astype('str')\n",
    "\n",
    "# Drop all transactions which were done on credit\n",
    "data=data[~data['InvoiceNo'].str.contains('C')]"
   ]
  },
  {
   "cell_type": "markdown",
   "id": "9d42b1c9",
   "metadata": {},
   "source": [
    "## Split data according to the region of transaction"
   ]
  },
  {
   "cell_type": "code",
   "execution_count": 9,
   "id": "a5a96bfc",
   "metadata": {
    "ExecuteTime": {
     "end_time": "2023-02-28T11:24:02.675833Z",
     "start_time": "2023-02-28T11:23:43.946284Z"
    }
   },
   "outputs": [],
   "source": [
    "# Transactions done in France\n",
    "basket_France = (data[data['Country'] ==\"France\"]\n",
    "        .groupby(['InvoiceNo', 'Description'])['Quantity']\n",
    "        .sum().unstack().reset_index().fillna(0)\n",
    "        .set_index('InvoiceNo'))\n",
    "\n",
    "# Transactions done in the United Kingdom\n",
    "basket_UK = (data[data['Country'] ==\"United Kingdom\"]\n",
    "        .groupby(['InvoiceNo', 'Description'])['Quantity']\n",
    "        .sum().unstack().reset_index().fillna(0)\n",
    "        .set_index('InvoiceNo'))\n",
    "\n",
    "# Transactions done in Portugal\n",
    "basket_Por = (data[data['Country'] ==\"Portugal\"]\n",
    "        .groupby(['InvoiceNo', 'Description'])['Quantity']\n",
    "        .sum().unstack().reset_index().fillna(0)\n",
    "        .set_index('InvoiceNo'))\n",
    "\n",
    "basket_Sweden = (data[data['Country'] ==\"Sweden\"]\n",
    "        .groupby(['InvoiceNo', 'Description'])['Quantity']\n",
    "        .sum().unstack().reset_index().fillna(0)\n",
    "        .set_index('InvoiceNo'))"
   ]
  },
  {
   "cell_type": "code",
   "execution_count": 10,
   "id": "ecf4b9f4",
   "metadata": {
    "ExecuteTime": {
     "end_time": "2023-02-28T11:25:43.141179Z",
     "start_time": "2023-02-28T11:24:59.464436Z"
    }
   },
   "outputs": [],
   "source": [
    "# Hot Encoding\n",
    "def hot_encode(x):\n",
    "    if(x<=0):\n",
    "        return 0\n",
    "    if(x>=1):\n",
    "        return 1\n",
    "    \n",
    "basket_encoded = basket_France.applymap(hot_encode)\n",
    "basket_France = basket_encoded\n",
    "  \n",
    "basket_encoded = basket_UK.applymap(hot_encode)\n",
    "basket_UK = basket_encoded\n",
    "  \n",
    "basket_encoded = basket_Por.applymap(hot_encode)\n",
    "basket_Por = basket_encoded\n",
    "  \n",
    "basket_encoded = basket_Sweden.applymap(hot_encode)\n",
    "basket_Sweden = basket_encoded"
   ]
  },
  {
   "cell_type": "markdown",
   "id": "be51b3d3",
   "metadata": {},
   "source": [
    "# Modelo"
   ]
  },
  {
   "cell_type": "markdown",
   "id": "97e15474",
   "metadata": {},
   "source": [
    "## France"
   ]
  },
  {
   "cell_type": "code",
   "execution_count": 12,
   "id": "5edf42c4",
   "metadata": {
    "ExecuteTime": {
     "end_time": "2023-02-28T11:26:20.046659Z",
     "start_time": "2023-02-28T11:26:19.892621Z"
    }
   },
   "outputs": [
    {
     "name": "stderr",
     "output_type": "stream",
     "text": [
      "C:\\Users\\azo\\Anaconda3\\envs\\augmentation\\lib\\site-packages\\mlxtend\\frequent_patterns\\fpcommon.py:111: DeprecationWarning: DataFrames with non-bool types result in worse computationalperformance and their support might be discontinued in the future.Please use a DataFrame with bool type\n",
      "  warnings.warn(\n"
     ]
    },
    {
     "data": {
      "text/html": [
       "<div>\n",
       "<style scoped>\n",
       "    .dataframe tbody tr th:only-of-type {\n",
       "        vertical-align: middle;\n",
       "    }\n",
       "\n",
       "    .dataframe tbody tr th {\n",
       "        vertical-align: top;\n",
       "    }\n",
       "\n",
       "    .dataframe thead th {\n",
       "        text-align: right;\n",
       "    }\n",
       "</style>\n",
       "<table border=\"1\" class=\"dataframe\">\n",
       "  <thead>\n",
       "    <tr style=\"text-align: right;\">\n",
       "      <th></th>\n",
       "      <th>antecedents</th>\n",
       "      <th>consequents</th>\n",
       "      <th>antecedent support</th>\n",
       "      <th>consequent support</th>\n",
       "      <th>support</th>\n",
       "      <th>confidence</th>\n",
       "      <th>lift</th>\n",
       "      <th>leverage</th>\n",
       "      <th>conviction</th>\n",
       "    </tr>\n",
       "  </thead>\n",
       "  <tbody>\n",
       "    <tr>\n",
       "      <th>44</th>\n",
       "      <td>(JUMBO BAG WOODLAND ANIMALS)</td>\n",
       "      <td>(POSTAGE)</td>\n",
       "      <td>0.076531</td>\n",
       "      <td>0.765306</td>\n",
       "      <td>0.076531</td>\n",
       "      <td>1.000</td>\n",
       "      <td>1.306667</td>\n",
       "      <td>0.017961</td>\n",
       "      <td>inf</td>\n",
       "    </tr>\n",
       "    <tr>\n",
       "      <th>258</th>\n",
       "      <td>(RED TOADSTOOL LED NIGHT LIGHT, PLASTERS IN TI...</td>\n",
       "      <td>(POSTAGE)</td>\n",
       "      <td>0.051020</td>\n",
       "      <td>0.765306</td>\n",
       "      <td>0.051020</td>\n",
       "      <td>1.000</td>\n",
       "      <td>1.306667</td>\n",
       "      <td>0.011974</td>\n",
       "      <td>inf</td>\n",
       "    </tr>\n",
       "    <tr>\n",
       "      <th>270</th>\n",
       "      <td>(RED TOADSTOOL LED NIGHT LIGHT, PLASTERS IN TI...</td>\n",
       "      <td>(POSTAGE)</td>\n",
       "      <td>0.053571</td>\n",
       "      <td>0.765306</td>\n",
       "      <td>0.053571</td>\n",
       "      <td>1.000</td>\n",
       "      <td>1.306667</td>\n",
       "      <td>0.012573</td>\n",
       "      <td>inf</td>\n",
       "    </tr>\n",
       "    <tr>\n",
       "      <th>300</th>\n",
       "      <td>(SET/20 RED RETROSPOT PAPER NAPKINS, SET/6 RED...</td>\n",
       "      <td>(SET/6 RED SPOTTY PAPER PLATES)</td>\n",
       "      <td>0.102041</td>\n",
       "      <td>0.127551</td>\n",
       "      <td>0.099490</td>\n",
       "      <td>0.975</td>\n",
       "      <td>7.644000</td>\n",
       "      <td>0.086474</td>\n",
       "      <td>34.897959</td>\n",
       "    </tr>\n",
       "    <tr>\n",
       "      <th>301</th>\n",
       "      <td>(SET/20 RED RETROSPOT PAPER NAPKINS, SET/6 RED...</td>\n",
       "      <td>(SET/6 RED SPOTTY PAPER CUPS)</td>\n",
       "      <td>0.102041</td>\n",
       "      <td>0.137755</td>\n",
       "      <td>0.099490</td>\n",
       "      <td>0.975</td>\n",
       "      <td>7.077778</td>\n",
       "      <td>0.085433</td>\n",
       "      <td>34.489796</td>\n",
       "    </tr>\n",
       "  </tbody>\n",
       "</table>\n",
       "</div>"
      ],
      "text/plain": [
       "                                           antecedents  \\\n",
       "44                        (JUMBO BAG WOODLAND ANIMALS)   \n",
       "258  (RED TOADSTOOL LED NIGHT LIGHT, PLASTERS IN TI...   \n",
       "270  (RED TOADSTOOL LED NIGHT LIGHT, PLASTERS IN TI...   \n",
       "300  (SET/20 RED RETROSPOT PAPER NAPKINS, SET/6 RED...   \n",
       "301  (SET/20 RED RETROSPOT PAPER NAPKINS, SET/6 RED...   \n",
       "\n",
       "                         consequents  antecedent support  consequent support  \\\n",
       "44                         (POSTAGE)            0.076531            0.765306   \n",
       "258                        (POSTAGE)            0.051020            0.765306   \n",
       "270                        (POSTAGE)            0.053571            0.765306   \n",
       "300  (SET/6 RED SPOTTY PAPER PLATES)            0.102041            0.127551   \n",
       "301    (SET/6 RED SPOTTY PAPER CUPS)            0.102041            0.137755   \n",
       "\n",
       "      support  confidence      lift  leverage  conviction  \n",
       "44   0.076531       1.000  1.306667  0.017961         inf  \n",
       "258  0.051020       1.000  1.306667  0.011974         inf  \n",
       "270  0.053571       1.000  1.306667  0.012573         inf  \n",
       "300  0.099490       0.975  7.644000  0.086474   34.897959  \n",
       "301  0.099490       0.975  7.077778  0.085433   34.489796  "
      ]
     },
     "execution_count": 12,
     "metadata": {},
     "output_type": "execute_result"
    }
   ],
   "source": [
    "# Build model\n",
    "frq_items = apriori(basket_France, min_support=0.05, use_colnames=True)\n",
    "\n",
    "# Collect inferred rules in df\n",
    "rules = association_rules(frq_items, metric =\"lift\", min_threshold = 1)\n",
    "rules = rules.sort_values(['confidence', 'lift'], ascending =[False, False])\n",
    "rules.head()"
   ]
  },
  {
   "cell_type": "code",
   "execution_count": 14,
   "id": "82992a95",
   "metadata": {
    "ExecuteTime": {
     "end_time": "2023-02-28T11:27:54.848571Z",
     "start_time": "2023-02-28T11:27:54.784744Z"
    }
   },
   "outputs": [
    {
     "data": {
      "text/html": [
       "<div>\n",
       "<style scoped>\n",
       "    .dataframe tbody tr th:only-of-type {\n",
       "        vertical-align: middle;\n",
       "    }\n",
       "\n",
       "    .dataframe tbody tr th {\n",
       "        vertical-align: top;\n",
       "    }\n",
       "\n",
       "    .dataframe thead th {\n",
       "        text-align: right;\n",
       "    }\n",
       "</style>\n",
       "<table border=\"1\" class=\"dataframe\">\n",
       "  <thead>\n",
       "    <tr style=\"text-align: right;\">\n",
       "      <th></th>\n",
       "      <th>antecedents</th>\n",
       "      <th>consequents</th>\n",
       "      <th>antecedent support</th>\n",
       "      <th>consequent support</th>\n",
       "      <th>support</th>\n",
       "      <th>confidence</th>\n",
       "      <th>lift</th>\n",
       "      <th>leverage</th>\n",
       "      <th>conviction</th>\n",
       "    </tr>\n",
       "  </thead>\n",
       "  <tbody>\n",
       "    <tr>\n",
       "      <th>44</th>\n",
       "      <td>(JUMBO BAG WOODLAND ANIMALS)</td>\n",
       "      <td>(POSTAGE)</td>\n",
       "      <td>0.076531</td>\n",
       "      <td>0.765306</td>\n",
       "      <td>0.076531</td>\n",
       "      <td>1.000000</td>\n",
       "      <td>1.306667</td>\n",
       "      <td>0.017961</td>\n",
       "      <td>inf</td>\n",
       "    </tr>\n",
       "    <tr>\n",
       "      <th>258</th>\n",
       "      <td>(RED TOADSTOOL LED NIGHT LIGHT, PLASTERS IN TI...</td>\n",
       "      <td>(POSTAGE)</td>\n",
       "      <td>0.051020</td>\n",
       "      <td>0.765306</td>\n",
       "      <td>0.051020</td>\n",
       "      <td>1.000000</td>\n",
       "      <td>1.306667</td>\n",
       "      <td>0.011974</td>\n",
       "      <td>inf</td>\n",
       "    </tr>\n",
       "    <tr>\n",
       "      <th>270</th>\n",
       "      <td>(RED TOADSTOOL LED NIGHT LIGHT, PLASTERS IN TI...</td>\n",
       "      <td>(POSTAGE)</td>\n",
       "      <td>0.053571</td>\n",
       "      <td>0.765306</td>\n",
       "      <td>0.053571</td>\n",
       "      <td>1.000000</td>\n",
       "      <td>1.306667</td>\n",
       "      <td>0.012573</td>\n",
       "      <td>inf</td>\n",
       "    </tr>\n",
       "    <tr>\n",
       "      <th>300</th>\n",
       "      <td>(SET/20 RED RETROSPOT PAPER NAPKINS, SET/6 RED...</td>\n",
       "      <td>(SET/6 RED SPOTTY PAPER PLATES)</td>\n",
       "      <td>0.102041</td>\n",
       "      <td>0.127551</td>\n",
       "      <td>0.099490</td>\n",
       "      <td>0.975000</td>\n",
       "      <td>7.644000</td>\n",
       "      <td>0.086474</td>\n",
       "      <td>34.897959</td>\n",
       "    </tr>\n",
       "    <tr>\n",
       "      <th>301</th>\n",
       "      <td>(SET/20 RED RETROSPOT PAPER NAPKINS, SET/6 RED...</td>\n",
       "      <td>(SET/6 RED SPOTTY PAPER CUPS)</td>\n",
       "      <td>0.102041</td>\n",
       "      <td>0.137755</td>\n",
       "      <td>0.099490</td>\n",
       "      <td>0.975000</td>\n",
       "      <td>7.077778</td>\n",
       "      <td>0.085433</td>\n",
       "      <td>34.489796</td>\n",
       "    </tr>\n",
       "    <tr>\n",
       "      <th>...</th>\n",
       "      <td>...</td>\n",
       "      <td>...</td>\n",
       "      <td>...</td>\n",
       "      <td>...</td>\n",
       "      <td>...</td>\n",
       "      <td>...</td>\n",
       "      <td>...</td>\n",
       "      <td>...</td>\n",
       "      <td>...</td>\n",
       "    </tr>\n",
       "    <tr>\n",
       "      <th>37</th>\n",
       "      <td>(POSTAGE)</td>\n",
       "      <td>(JAM MAKING SET PRINTED)</td>\n",
       "      <td>0.765306</td>\n",
       "      <td>0.053571</td>\n",
       "      <td>0.051020</td>\n",
       "      <td>0.066667</td>\n",
       "      <td>1.244444</td>\n",
       "      <td>0.010022</td>\n",
       "      <td>1.014031</td>\n",
       "    </tr>\n",
       "    <tr>\n",
       "      <th>27</th>\n",
       "      <td>(POSTAGE)</td>\n",
       "      <td>(CIRCUS PARADE CHILDRENS EGG CUP)</td>\n",
       "      <td>0.765306</td>\n",
       "      <td>0.056122</td>\n",
       "      <td>0.051020</td>\n",
       "      <td>0.066667</td>\n",
       "      <td>1.187879</td>\n",
       "      <td>0.008070</td>\n",
       "      <td>1.011297</td>\n",
       "    </tr>\n",
       "    <tr>\n",
       "      <th>96</th>\n",
       "      <td>(POSTAGE)</td>\n",
       "      <td>(PARTY BUNTING)</td>\n",
       "      <td>0.765306</td>\n",
       "      <td>0.056122</td>\n",
       "      <td>0.051020</td>\n",
       "      <td>0.066667</td>\n",
       "      <td>1.187879</td>\n",
       "      <td>0.008070</td>\n",
       "      <td>1.011297</td>\n",
       "    </tr>\n",
       "    <tr>\n",
       "      <th>227</th>\n",
       "      <td>(POSTAGE)</td>\n",
       "      <td>(LUNCH BAG RED RETROSPOT, LUNCH BAG WOODLAND)</td>\n",
       "      <td>0.765306</td>\n",
       "      <td>0.056122</td>\n",
       "      <td>0.051020</td>\n",
       "      <td>0.066667</td>\n",
       "      <td>1.187879</td>\n",
       "      <td>0.008070</td>\n",
       "      <td>1.011297</td>\n",
       "    </tr>\n",
       "    <tr>\n",
       "      <th>215</th>\n",
       "      <td>(POSTAGE)</td>\n",
       "      <td>(LUNCH BAG SPACEBOY DESIGN, LUNCH BAG APPLE DE...</td>\n",
       "      <td>0.765306</td>\n",
       "      <td>0.063776</td>\n",
       "      <td>0.051020</td>\n",
       "      <td>0.066667</td>\n",
       "      <td>1.045333</td>\n",
       "      <td>0.002213</td>\n",
       "      <td>1.003098</td>\n",
       "    </tr>\n",
       "  </tbody>\n",
       "</table>\n",
       "<p>348 rows × 9 columns</p>\n",
       "</div>"
      ],
      "text/plain": [
       "                                           antecedents  \\\n",
       "44                        (JUMBO BAG WOODLAND ANIMALS)   \n",
       "258  (RED TOADSTOOL LED NIGHT LIGHT, PLASTERS IN TI...   \n",
       "270  (RED TOADSTOOL LED NIGHT LIGHT, PLASTERS IN TI...   \n",
       "300  (SET/20 RED RETROSPOT PAPER NAPKINS, SET/6 RED...   \n",
       "301  (SET/20 RED RETROSPOT PAPER NAPKINS, SET/6 RED...   \n",
       "..                                                 ...   \n",
       "37                                           (POSTAGE)   \n",
       "27                                           (POSTAGE)   \n",
       "96                                           (POSTAGE)   \n",
       "227                                          (POSTAGE)   \n",
       "215                                          (POSTAGE)   \n",
       "\n",
       "                                           consequents  antecedent support  \\\n",
       "44                                           (POSTAGE)            0.076531   \n",
       "258                                          (POSTAGE)            0.051020   \n",
       "270                                          (POSTAGE)            0.053571   \n",
       "300                    (SET/6 RED SPOTTY PAPER PLATES)            0.102041   \n",
       "301                      (SET/6 RED SPOTTY PAPER CUPS)            0.102041   \n",
       "..                                                 ...                 ...   \n",
       "37                            (JAM MAKING SET PRINTED)            0.765306   \n",
       "27                   (CIRCUS PARADE CHILDRENS EGG CUP)            0.765306   \n",
       "96                                     (PARTY BUNTING)            0.765306   \n",
       "227      (LUNCH BAG RED RETROSPOT, LUNCH BAG WOODLAND)            0.765306   \n",
       "215  (LUNCH BAG SPACEBOY DESIGN, LUNCH BAG APPLE DE...            0.765306   \n",
       "\n",
       "     consequent support   support  confidence      lift  leverage  conviction  \n",
       "44             0.765306  0.076531    1.000000  1.306667  0.017961         inf  \n",
       "258            0.765306  0.051020    1.000000  1.306667  0.011974         inf  \n",
       "270            0.765306  0.053571    1.000000  1.306667  0.012573         inf  \n",
       "300            0.127551  0.099490    0.975000  7.644000  0.086474   34.897959  \n",
       "301            0.137755  0.099490    0.975000  7.077778  0.085433   34.489796  \n",
       "..                  ...       ...         ...       ...       ...         ...  \n",
       "37             0.053571  0.051020    0.066667  1.244444  0.010022    1.014031  \n",
       "27             0.056122  0.051020    0.066667  1.187879  0.008070    1.011297  \n",
       "96             0.056122  0.051020    0.066667  1.187879  0.008070    1.011297  \n",
       "227            0.056122  0.051020    0.066667  1.187879  0.008070    1.011297  \n",
       "215            0.063776  0.051020    0.066667  1.045333  0.002213    1.003098  \n",
       "\n",
       "[348 rows x 9 columns]"
      ]
     },
     "execution_count": 14,
     "metadata": {},
     "output_type": "execute_result"
    }
   ],
   "source": [
    "rules"
   ]
  },
  {
   "cell_type": "code",
   "execution_count": null,
   "id": "3f97c423",
   "metadata": {},
   "outputs": [],
   "source": []
  }
 ],
 "metadata": {
  "kernelspec": {
   "display_name": "Python 3 (ipykernel)",
   "language": "python",
   "name": "python3"
  },
  "language_info": {
   "codemirror_mode": {
    "name": "ipython",
    "version": 3
   },
   "file_extension": ".py",
   "mimetype": "text/x-python",
   "name": "python",
   "nbconvert_exporter": "python",
   "pygments_lexer": "ipython3",
   "version": "3.9.13"
  }
 },
 "nbformat": 4,
 "nbformat_minor": 5
}
