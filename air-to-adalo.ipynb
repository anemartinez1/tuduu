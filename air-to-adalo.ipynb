{
 "cells": [
  {
   "cell_type": "code",
   "execution_count": 5,
   "metadata": {},
   "outputs": [
    {
     "data": {
      "text/plain": [
       "False"
      ]
     },
     "execution_count": 5,
     "metadata": {},
     "output_type": "execute_result"
    }
   ],
   "source": [
    "import os\n",
    "import requests\n",
    "from dotenv import load_dotenv\n",
    "load_dotenv()\n"
   ]
  },
  {
   "cell_type": "code",
   "execution_count": 7,
   "metadata": {},
   "outputs": [
    {
     "name": "stdout",
     "output_type": "stream",
     "text": [
      "200\n"
     ]
    }
   ],
   "source": [
    "import os\n",
    "import requests\n",
    "from dotenv import load_dotenv\n",
    "load_dotenv()\n",
    "\n",
    "\n",
    "AIRTABLE_BASE_ID=os.environ.get(\"appEX0yBBP1xhAkeL\")\n",
    "AIRTABLE_API_KEY=os.environ.get(\"keyedN52o4Usdo8DS\")\n",
    "AIRTABLE_TABLE_NAME=os.environ.get(\"Cabeceras\")\n",
    "\n",
    "endpoint=f'https://api.airtable.com/v0/appEX0yBBP1xhAkeL/Cabeceras'\n",
    "\n",
    "\n",
    "headers = {\n",
    "    \"Authorization\": f\"Bearer keyedN52o4Usdo8DS \",\n",
    "    \"Content-Type\": \"application/json\"\n",
    "}\n",
    "\n",
    "data = {\n",
    "  \"records\": [\n",
    "    {\n",
    "      \"fields\": {\n",
    "        \"Cesta\": \"Justinonino\",\n",
    "        \"User\": \"abc@notreal.com\\n\"\n",
    "      }\n",
    "    }\n",
    "  ]\n",
    "}\n",
    "\n",
    "# http methods?\n",
    "# what is the method for \"create\" -> HTTP Method POST\n",
    "\n",
    "\n",
    "r = requests.post(endpoint, json=data, headers=headers)\n",
    "print(r.status_code)\n",
    "\n",
    "\n",
    "# def add_to_airtable(email=None, name=\"\"):\n",
    "#     if email is None:\n",
    "#         return\n",
    "#     headers = {\n",
    "#         \"Authorization\": f\"Bearer keyedN52o4Usdo8DS\",\n",
    "#         \"Content-Type\": \"application/json\"\n",
    "#     }\n",
    "#     data = {\n",
    "#     \"records\": [\n",
    "#             {\n",
    "#             \"fields\": {\n",
    "#                 \"Cesta\": name,\n",
    "#                 \"User\": email\n",
    "#                 }\n",
    "#             }\n",
    "#         ]\n",
    "#     }\n",
    "#     r = requests.post(endpoint, json=data, headers=headers)\n",
    "#     #print id of the record\n",
    "#     print(r.json()[\"records\"][0][\"id\"])\n",
    "#     return r.status_code == 200\n",
    "    \n",
    "\n",
    "# email = input(\"What is your email?\\n\")\n",
    "# name = input(\"What is your name?\\n\")\n",
    "\n",
    "# add_to_airtable(email, name=name)\n",
    "\n",
    "#add_to_airtable('abc-123fadsf@gmail.com', name=\"Not real\")"
   ]
  }
 ],
 "metadata": {
  "kernelspec": {
   "display_name": "Python 3.10.0 ('mlflow1')",
   "language": "python",
   "name": "python3"
  },
  "language_info": {
   "codemirror_mode": {
    "name": "ipython",
    "version": 3
   },
   "file_extension": ".py",
   "mimetype": "text/x-python",
   "name": "python",
   "nbconvert_exporter": "python",
   "pygments_lexer": "ipython3",
   "version": "3.10.0"
  },
  "orig_nbformat": 4,
  "vscode": {
   "interpreter": {
    "hash": "3471c9b79a6891292ca45bb90dce4a4b0c9305b11fae044a7312b434eb3443e4"
   }
  }
 },
 "nbformat": 4,
 "nbformat_minor": 2
}
